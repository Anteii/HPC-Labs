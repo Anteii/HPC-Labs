{
  "nbformat": 4,
  "nbformat_minor": 0,
  "metadata": {
    "colab": {
      "provenance": [],
      "authorship_tag": "ABX9TyPaFCe/VcHetYfikR0878mN",
      "include_colab_link": true
    },
    "kernelspec": {
      "name": "python3",
      "display_name": "Python 3"
    },
    "language_info": {
      "name": "python"
    }
  },
  "cells": [
    {
      "cell_type": "markdown",
      "metadata": {
        "id": "view-in-github",
        "colab_type": "text"
      },
      "source": [
        "<a href=\"https://colab.research.google.com/github/Anteii/HPC-Labs/blob/main/lab4/MassSearch.ipynb\" target=\"_parent\"><img src=\"https://colab.research.google.com/assets/colab-badge.svg\" alt=\"Open In Colab\"/></a>"
      ]
    },
    {
      "cell_type": "markdown",
      "source": [
        "#Notebook setup"
      ],
      "metadata": {
        "id": "d_A-lEBi8scn"
      }
    },
    {
      "cell_type": "code",
      "execution_count": 1,
      "metadata": {
        "id": "h3ADkaa98p9v"
      },
      "outputs": [],
      "source": [
        "from IPython.display import clear_output"
      ]
    },
    {
      "cell_type": "code",
      "source": [
        "!nvcc --version"
      ],
      "metadata": {
        "colab": {
          "base_uri": "https://localhost:8080/"
        },
        "id": "YyMy41kP9E4n",
        "outputId": "b820f542-134a-4777-a087-a237c196cc7c"
      },
      "execution_count": 2,
      "outputs": [
        {
          "output_type": "stream",
          "name": "stdout",
          "text": [
            "nvcc: NVIDIA (R) Cuda compiler driver\n",
            "Copyright (c) 2005-2021 NVIDIA Corporation\n",
            "Built on Sun_Feb_14_21:12:58_PST_2021\n",
            "Cuda compilation tools, release 11.2, V11.2.152\n",
            "Build cuda_11.2.r11.2/compiler.29618528_0\n"
          ]
        }
      ]
    },
    {
      "cell_type": "code",
      "source": [
        "!nvidia-smi"
      ],
      "metadata": {
        "colab": {
          "base_uri": "https://localhost:8080/"
        },
        "id": "VsUOFd5r9F5Z",
        "outputId": "70266596-670e-47dc-9712-66f874135f89"
      },
      "execution_count": 3,
      "outputs": [
        {
          "output_type": "stream",
          "name": "stdout",
          "text": [
            "NVIDIA-SMI has failed because it couldn't communicate with the NVIDIA driver. Make sure that the latest NVIDIA driver is installed and running.\n",
            "\n"
          ]
        }
      ]
    },
    {
      "cell_type": "code",
      "source": [
        "!git clone https://github.com/NVIDIA/cuda-samples.git\n",
        "!make -C /content/cuda-samples/Samples/1_Utilities/deviceQueryDrv/\n",
        "!/content/cuda-samples/bin/x86_64/linux/release/deviceQueryDrv"
      ],
      "metadata": {
        "id": "Qefp13KK9I94",
        "colab": {
          "base_uri": "https://localhost:8080/"
        },
        "outputId": "72c4dc65-d970-4d7f-9b25-992852df850a"
      },
      "execution_count": 4,
      "outputs": [
        {
          "output_type": "stream",
          "name": "stdout",
          "text": [
            "Cloning into 'cuda-samples'...\n",
            "remote: Enumerating objects: 11024, done.\u001b[K\n",
            "remote: Counting objects: 100% (11024/11024), done.\u001b[K\n",
            "remote: Compressing objects: 100% (1839/1839), done.\u001b[K\n",
            "remote: Total 11024 (delta 9184), reused 10979 (delta 9159), pack-reused 0\u001b[K\n",
            "Receiving objects: 100% (11024/11024), 127.03 MiB | 27.16 MiB/s, done.\n",
            "Resolving deltas: 100% (9184/9184), done.\n",
            "Checking out files: 100% (3615/3615), done.\n",
            "make: Entering directory '/content/cuda-samples/Samples/1_Utilities/deviceQueryDrv'\n",
            "/usr/local/cuda/bin/nvcc -ccbin g++ -I../../../Common  -m64    --threads 0 --std=c++11 -gencode arch=compute_35,code=compute_35 -o deviceQueryDrv.o -c deviceQueryDrv.cpp\n",
            "nvcc warning : The 'compute_35', 'compute_37', 'compute_50', 'sm_35', 'sm_37' and 'sm_50' architectures are deprecated, and may be removed in a future release (Use -Wno-deprecated-gpu-targets to suppress warning).\n",
            "/usr/local/cuda/bin/nvcc -ccbin g++   -m64      -gencode arch=compute_35,code=compute_35 -o deviceQueryDrv deviceQueryDrv.o  -L/usr/local/cuda/lib64/stubs -lcuda\n",
            "nvcc warning : The 'compute_35', 'compute_37', 'compute_50', 'sm_35', 'sm_37' and 'sm_50' architectures are deprecated, and may be removed in a future release (Use -Wno-deprecated-gpu-targets to suppress warning).\n",
            "mkdir -p ../../../bin/x86_64/linux/release\n",
            "cp deviceQueryDrv ../../../bin/x86_64/linux/release\n",
            "make: Leaving directory '/content/cuda-samples/Samples/1_Utilities/deviceQueryDrv'\n",
            "/content/cuda-samples/bin/x86_64/linux/release/deviceQueryDrv Starting...\n",
            "\n",
            "CUDA Device Query (Driver API) statically linked version \n",
            "checkCudaErrors() Driver API error = 0100 \"no CUDA-capable device is detected\" from file <deviceQueryDrv.cpp>, line 54.\n"
          ]
        }
      ]
    },
    {
      "cell_type": "code",
      "source": [
        "!mkdir src"
      ],
      "metadata": {
        "id": "W9LyRtqyDR44"
      },
      "execution_count": 5,
      "outputs": []
    },
    {
      "cell_type": "markdown",
      "source": [
        "# Python (CPU)"
      ],
      "metadata": {
        "id": "wIifMRwUDJom"
      }
    },
    {
      "cell_type": "code",
      "source": [
        "import numpy as np\n",
        "np.random.seed(41)\n",
        "\n",
        "def generate_sub(alphabet, h_min, h_max):\n",
        "  sub_len = np.random.randint(h_min, h_max, size=1)\n",
        "  return np.random.choice(alphabet, size=sub_len)\n",
        "\n",
        "def gen_d(alphabet, subs):\n",
        "  d = {ch: [] for ch in alphabet}\n",
        "  for sub_ind, sub in enumerate(subs):\n",
        "    for ch_ind, ch in enumerate(sub):\n",
        "      d[ch].append((sub_ind, ch_ind))\n",
        "  return d\n",
        "\n",
        "def gen_working_mat(subs, N, H):\n",
        "  mat = np.array([len(sub) for sub in subs])\n",
        "  return mat.reshape(-1,1).repeat(H, axis=1)\n",
        "\n",
        "def iterate(text, d, mat):\n",
        "  for ind, ch in enumerate(text):\n",
        "    for pair in d[ch]:\n",
        "      mat[pair[0], ind - pair[1]] -= 1\n",
        "  return mat\n",
        "\n",
        "def is_contain(mat):\n",
        "  return (mat == 0).any(axis=1)\n",
        "\n",
        "def find_indices(mat):\n",
        "  sub_ind, pos_ind = np.where(mat == 0)\n",
        "  return np.stack([sub_ind, pos_ind]).T"
      ],
      "metadata": {
        "id": "fyH29wm9iV8V"
      },
      "execution_count": 150,
      "outputs": []
    },
    {
      "cell_type": "code",
      "source": [
        "# Define alphabet\n",
        "S = 6\n",
        "alphabet = np.arange(0, S, dtype=np.uint8)\n",
        "# Example\n",
        "#S = 6\n",
        "#alphabet = [\"a\", \"b\", \"c\", \"d\", \"e\", \"f\"]"
      ],
      "metadata": {
        "id": "sNq5HlmTiZNd"
      },
      "execution_count": 140,
      "outputs": []
    },
    {
      "cell_type": "code",
      "source": [
        "# Define text\n",
        "H = 100\n",
        "text = np.random.choice(alphabet, size=H)\n",
        "\n",
        "# Example\n",
        "#H = 6\n",
        "#text = np.array([\"a\", \"a\", \"e\", \"f\", \"e\", \"d\"])"
      ],
      "metadata": {
        "id": "CmDOIUtOieoX"
      },
      "execution_count": 141,
      "outputs": []
    },
    {
      "cell_type": "code",
      "source": [
        "h_min, h_max = 1, 20\n",
        "N = 10\n",
        "subs = [generate_sub(alphabet, h_min, h_max) for i in range(N)]\n",
        "\n",
        "# Example\n",
        "#N = 3\n",
        "#subs = [np.array([\"a\", \"a\"]), np.array([\"a\"]), np.array([\"f\", \"e\", \"d\"])]"
      ],
      "metadata": {
        "id": "4IVzcTOQitKX"
      },
      "execution_count": 142,
      "outputs": []
    },
    {
      "cell_type": "code",
      "source": [
        "d = gen_d(alphabet, subs)\n",
        "mat = gen_working_mat(subs, N, H)"
      ],
      "metadata": {
        "id": "0i4OZhnWjiBb"
      },
      "execution_count": 143,
      "outputs": []
    },
    {
      "cell_type": "code",
      "source": [
        "mat = iterate(text, d, mat)"
      ],
      "metadata": {
        "id": "qxk3a2TIHq5S"
      },
      "execution_count": 144,
      "outputs": []
    },
    {
      "cell_type": "code",
      "source": [
        "is_contain(mat)"
      ],
      "metadata": {
        "colab": {
          "base_uri": "https://localhost:8080/"
        },
        "id": "R41OB_3yJjPB",
        "outputId": "1e0ae4b9-6138-4adb-f09d-d17d02e5e35a"
      },
      "execution_count": 151,
      "outputs": [
        {
          "output_type": "execute_result",
          "data": {
            "text/plain": [
              "array([False,  True, False, False,  True,  True, False, False, False,\n",
              "        True])"
            ]
          },
          "metadata": {},
          "execution_count": 151
        }
      ]
    },
    {
      "cell_type": "code",
      "source": [
        "find_indices(mat)"
      ],
      "metadata": {
        "id": "DkKADroWkrJm"
      },
      "execution_count": null,
      "outputs": []
    },
    {
      "cell_type": "markdown",
      "source": [
        "# C++ (CPU)"
      ],
      "metadata": {
        "id": "yQEL0yA7moCW"
      }
    },
    {
      "cell_type": "code",
      "source": [
        "%%writefile src/cpu.cpp\n",
        "#include <iostream>\n",
        "\n",
        "using namespace std;\n",
        "\n",
        "int main(){\n",
        "  cout << \"Hello World!\" << endl;\n",
        "  return 0;\n",
        "}"
      ],
      "metadata": {
        "colab": {
          "base_uri": "https://localhost:8080/"
        },
        "id": "C4iKxc7pDK8P",
        "outputId": "71d8775c-346b-465d-ec3b-38f77750c10b"
      },
      "execution_count": null,
      "outputs": [
        {
          "output_type": "stream",
          "name": "stdout",
          "text": [
            "Overwriting src/cpu.cpp\n"
          ]
        }
      ]
    },
    {
      "cell_type": "code",
      "source": [
        "!g++ -O2 src/cpu.cpp -o cpu"
      ],
      "metadata": {
        "id": "_3Tg93ETDcu8"
      },
      "execution_count": null,
      "outputs": []
    },
    {
      "cell_type": "code",
      "source": [
        "!./cpu"
      ],
      "metadata": {
        "colab": {
          "base_uri": "https://localhost:8080/"
        },
        "id": "GJbZQKZaDjxe",
        "outputId": "63011a95-338d-402a-d087-fc837cd411ff"
      },
      "execution_count": null,
      "outputs": [
        {
          "output_type": "stream",
          "name": "stdout",
          "text": [
            "Hello World!\n"
          ]
        }
      ]
    },
    {
      "cell_type": "markdown",
      "source": [
        "# C++ (GPU)"
      ],
      "metadata": {
        "id": "1PJ6h7_Dmpxa"
      }
    },
    {
      "cell_type": "code",
      "source": [],
      "metadata": {
        "id": "Ucg5Z5i5mxMs"
      },
      "execution_count": null,
      "outputs": []
    }
  ]
}