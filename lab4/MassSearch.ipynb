{
  "nbformat": 4,
  "nbformat_minor": 0,
  "metadata": {
    "colab": {
      "provenance": [],
      "authorship_tag": "ABX9TyPwR+gVuhQQaclLJLGJpDLP",
      "include_colab_link": true
    },
    "kernelspec": {
      "name": "python3",
      "display_name": "Python 3"
    },
    "language_info": {
      "name": "python"
    }
  },
  "cells": [
    {
      "cell_type": "markdown",
      "metadata": {
        "id": "view-in-github",
        "colab_type": "text"
      },
      "source": [
        "<a href=\"https://colab.research.google.com/github/Anteii/HPC-Labs/blob/main/lab4/MassSearch.ipynb\" target=\"_parent\"><img src=\"https://colab.research.google.com/assets/colab-badge.svg\" alt=\"Open In Colab\"/></a>"
      ]
    },
    {
      "cell_type": "markdown",
      "source": [
        "#Notebook setup"
      ],
      "metadata": {
        "id": "d_A-lEBi8scn"
      }
    },
    {
      "cell_type": "code",
      "execution_count": 2,
      "metadata": {
        "id": "h3ADkaa98p9v"
      },
      "outputs": [],
      "source": [
        "from IPython.display import clear_output"
      ]
    },
    {
      "cell_type": "code",
      "source": [
        "!nvcc --version"
      ],
      "metadata": {
        "colab": {
          "base_uri": "https://localhost:8080/"
        },
        "id": "YyMy41kP9E4n",
        "outputId": "2ef7f6ae-db8c-4c74-cc3b-944c9df98416"
      },
      "execution_count": 3,
      "outputs": [
        {
          "output_type": "stream",
          "name": "stdout",
          "text": [
            "nvcc: NVIDIA (R) Cuda compiler driver\n",
            "Copyright (c) 2005-2021 NVIDIA Corporation\n",
            "Built on Sun_Feb_14_21:12:58_PST_2021\n",
            "Cuda compilation tools, release 11.2, V11.2.152\n",
            "Build cuda_11.2.r11.2/compiler.29618528_0\n"
          ]
        }
      ]
    },
    {
      "cell_type": "code",
      "source": [
        "!nvidia-smi"
      ],
      "metadata": {
        "colab": {
          "base_uri": "https://localhost:8080/"
        },
        "id": "VsUOFd5r9F5Z",
        "outputId": "7c67705a-4161-4c1d-f149-57b0fd5a8058"
      },
      "execution_count": 4,
      "outputs": [
        {
          "output_type": "stream",
          "name": "stdout",
          "text": [
            "NVIDIA-SMI has failed because it couldn't communicate with the NVIDIA driver. Make sure that the latest NVIDIA driver is installed and running.\n",
            "\n"
          ]
        }
      ]
    },
    {
      "cell_type": "code",
      "source": [
        "!git clone https://github.com/NVIDIA/cuda-samples.git\n",
        "!make -C /content/cuda-samples/Samples/1_Utilities/deviceQueryDrv/\n",
        "!/content/cuda-samples/bin/x86_64/linux/release/deviceQueryDrv"
      ],
      "metadata": {
        "id": "Qefp13KK9I94",
        "colab": {
          "base_uri": "https://localhost:8080/"
        },
        "outputId": "b3444397-74e9-46fc-826d-6822564a2505"
      },
      "execution_count": 5,
      "outputs": [
        {
          "output_type": "stream",
          "name": "stdout",
          "text": [
            "Cloning into 'cuda-samples'...\n",
            "remote: Enumerating objects: 11024, done.\u001b[K\n",
            "remote: Counting objects: 100% (11024/11024), done.\u001b[K\n",
            "remote: Compressing objects: 100% (1839/1839), done.\u001b[K\n",
            "remote: Total 11024 (delta 9184), reused 10979 (delta 9159), pack-reused 0\u001b[K\n",
            "Receiving objects: 100% (11024/11024), 127.03 MiB | 18.12 MiB/s, done.\n",
            "Resolving deltas: 100% (9184/9184), done.\n",
            "Checking out files: 100% (3615/3615), done.\n",
            "make: Entering directory '/content/cuda-samples/Samples/1_Utilities/deviceQueryDrv'\n",
            "/usr/local/cuda/bin/nvcc -ccbin g++ -I../../../Common  -m64    --threads 0 --std=c++11 -gencode arch=compute_35,code=compute_35 -o deviceQueryDrv.o -c deviceQueryDrv.cpp\n",
            "nvcc warning : The 'compute_35', 'compute_37', 'compute_50', 'sm_35', 'sm_37' and 'sm_50' architectures are deprecated, and may be removed in a future release (Use -Wno-deprecated-gpu-targets to suppress warning).\n",
            "/usr/local/cuda/bin/nvcc -ccbin g++   -m64      -gencode arch=compute_35,code=compute_35 -o deviceQueryDrv deviceQueryDrv.o  -L/usr/local/cuda/lib64/stubs -lcuda\n",
            "nvcc warning : The 'compute_35', 'compute_37', 'compute_50', 'sm_35', 'sm_37' and 'sm_50' architectures are deprecated, and may be removed in a future release (Use -Wno-deprecated-gpu-targets to suppress warning).\n",
            "mkdir -p ../../../bin/x86_64/linux/release\n",
            "cp deviceQueryDrv ../../../bin/x86_64/linux/release\n",
            "make: Leaving directory '/content/cuda-samples/Samples/1_Utilities/deviceQueryDrv'\n",
            "/content/cuda-samples/bin/x86_64/linux/release/deviceQueryDrv Starting...\n",
            "\n",
            "CUDA Device Query (Driver API) statically linked version \n",
            "checkCudaErrors() Driver API error = 0100 \"no CUDA-capable device is detected\" from file <deviceQueryDrv.cpp>, line 54.\n"
          ]
        }
      ]
    },
    {
      "cell_type": "code",
      "source": [
        "!mkdir src"
      ],
      "metadata": {
        "id": "W9LyRtqyDR44"
      },
      "execution_count": 6,
      "outputs": []
    },
    {
      "cell_type": "markdown",
      "source": [
        "# Python (CPU)"
      ],
      "metadata": {
        "id": "wIifMRwUDJom"
      }
    },
    {
      "cell_type": "code",
      "source": [
        "import numpy as np\n",
        "np.random.seed(41)\n",
        "\n",
        "def generate_sub(alphabet, h_min, h_max):\n",
        "  sub_len = np.random.randint(h_min, h_max, size=1)\n",
        "  return np.random.choice(alphabet, size=sub_len)\n",
        "\n",
        "def gen_d(alphabet, subs):\n",
        "  d = {ch: [] for ch in alphabet}\n",
        "  for sub_ind, sub in enumerate(subs):\n",
        "    for ch_ind, ch in enumerate(sub):\n",
        "      d[ch].append((sub_ind, ch_ind))\n",
        "  return d\n",
        "\n",
        "def gen_working_mat(subs, N, H):\n",
        "  mat = np.array([len(sub) for sub in subs])\n",
        "  return mat.reshape(-1,1).repeat(H, axis=1)\n",
        "\n",
        "def iterate(text, d, mat):\n",
        "  for ind, ch in enumerate(text):\n",
        "    for pair in d[ch]:\n",
        "      mat[pair[0], ind - pair[1]] -= 1\n",
        "  return mat\n",
        "\n",
        "def is_contain(mat):\n",
        "  return (mat == 0).any(axis=1)\n",
        "\n",
        "def find_indices(mat):\n",
        "  sub_ind, pos_ind = np.where(mat == 0)\n",
        "  return np.stack([sub_ind, pos_ind]).T"
      ],
      "metadata": {
        "id": "fyH29wm9iV8V"
      },
      "execution_count": 7,
      "outputs": []
    },
    {
      "cell_type": "code",
      "source": [
        "# Define alphabet\n",
        "S = 6\n",
        "alphabet = np.arange(0, S, dtype=np.uint8)\n",
        "# Example\n",
        "#S = 6\n",
        "#alphabet = [\"a\", \"b\", \"c\", \"d\", \"e\", \"f\"]"
      ],
      "metadata": {
        "id": "sNq5HlmTiZNd"
      },
      "execution_count": 8,
      "outputs": []
    },
    {
      "cell_type": "code",
      "source": [
        "# Define text\n",
        "H = 100\n",
        "text = np.random.choice(alphabet, size=H)\n",
        "\n",
        "# Example\n",
        "#H = 6\n",
        "#text = np.array([\"a\", \"a\", \"e\", \"f\", \"e\", \"d\"])"
      ],
      "metadata": {
        "id": "CmDOIUtOieoX"
      },
      "execution_count": 9,
      "outputs": []
    },
    {
      "cell_type": "code",
      "source": [
        "h_min, h_max = 1, 20\n",
        "N = 10\n",
        "subs = [generate_sub(alphabet, h_min, h_max) for i in range(N)]\n",
        "\n",
        "# Example\n",
        "#N = 3\n",
        "#subs = [np.array([\"a\", \"a\"]), np.array([\"a\"]), np.array([\"f\", \"e\", \"d\"])]"
      ],
      "metadata": {
        "id": "4IVzcTOQitKX"
      },
      "execution_count": 10,
      "outputs": []
    },
    {
      "cell_type": "code",
      "source": [
        "d = gen_d(alphabet, subs)\n",
        "mat = gen_working_mat(subs, N, H)"
      ],
      "metadata": {
        "id": "0i4OZhnWjiBb"
      },
      "execution_count": 11,
      "outputs": []
    },
    {
      "cell_type": "code",
      "source": [
        "mat = iterate(text, d, mat)"
      ],
      "metadata": {
        "id": "qxk3a2TIHq5S"
      },
      "execution_count": 12,
      "outputs": []
    },
    {
      "cell_type": "code",
      "source": [
        "is_contain(mat)"
      ],
      "metadata": {
        "colab": {
          "base_uri": "https://localhost:8080/"
        },
        "id": "R41OB_3yJjPB",
        "outputId": "2630aaa8-870b-4afd-f940-04a34e85798f"
      },
      "execution_count": 13,
      "outputs": [
        {
          "output_type": "execute_result",
          "data": {
            "text/plain": [
              "array([False, False, False, False, False,  True, False, False, False,\n",
              "       False])"
            ]
          },
          "metadata": {},
          "execution_count": 13
        }
      ]
    },
    {
      "cell_type": "code",
      "source": [
        "find_indices(mat)"
      ],
      "metadata": {
        "id": "DkKADroWkrJm"
      },
      "execution_count": null,
      "outputs": []
    },
    {
      "cell_type": "markdown",
      "source": [
        "# C++ (CPU)"
      ],
      "metadata": {
        "id": "yQEL0yA7moCW"
      }
    },
    {
      "cell_type": "code",
      "source": [
        "%%writefile src/cpu.cpp\n",
        "#include <iostream>\n",
        "#include <vector>\n",
        "#include <map>\n",
        "#include <fstream>\n",
        "#include <string>\n",
        "\n",
        "using namespace std;\n",
        "\n",
        "enum SearchType{\n",
        "  Indicies,\n",
        "  Entries\n",
        "};\n",
        "\n",
        "template <typename T>\n",
        "vector<int> getSubSizes(const vector<vector<T>>& subs){\n",
        "  vector<int> subsSizes(subs.size(), 0);\n",
        "  for (int subInd = 0; subInd < subs.size(); ++subInd){\n",
        "    subsSizes[subInd] = subs[subInd].size();\n",
        "  }\n",
        "  return subsSizes;\n",
        "}\n",
        "\n",
        "template <typename T>\n",
        "map<T, vector<pair<int, int>>> generateDict(const vector<T>& alphabet, const vector<vector<T>>& subs){\n",
        "  map<T, vector<pair<int, int>>> dict;\n",
        "  for (auto chr : alphabet){\n",
        "    dict[chr] = vector<pair<int, int>>();\n",
        "  }\n",
        "  \n",
        "  for (int sub_ind = 0; sub_ind < subs.size(); ++sub_ind){\n",
        "    auto sub = subs[sub_ind];\n",
        "    for (int chr_ind = 0; chr_ind < sub.size(); ++chr_ind){\n",
        "      auto chr = sub[chr_ind];\n",
        "      dict[chr].push_back({sub_ind, chr_ind});\n",
        "    }\n",
        "  }\n",
        "  \n",
        "  return dict;\n",
        "}\n",
        "\n",
        "vector<vector<int>> generateMatrix(const vector<int>& subsSizes, int textSize){\n",
        "  vector<vector<int>> mat;\n",
        "  for (auto subSize : subsSizes){\n",
        "    mat.push_back(vector<int>(textSize, subSize));\n",
        "  }\n",
        "  return mat;\n",
        "}\n",
        "\n",
        "template <typename T>\n",
        "vector<T> generateText(const vector<T>& alphabet, int size){\n",
        "  vector<T> text(size);\n",
        "  for (int i = 0; i < size; ++i){\n",
        "      int ind = rand() % alphabet.size();\n",
        "      text[i] = alphabet[ind];\n",
        "  }\n",
        "  return text;\n",
        "}\n",
        "\n",
        "template <typename T>\n",
        "vector<vector<T>> generateSubs(const vector<T>& alphabet, int n, int sizeMin, int sizeMax){\n",
        "  vector<vector<T>> subs;\n",
        "\n",
        "  for (int subInd = 0; subInd < n; ++subInd){\n",
        "    int size = sizeMin + rand() % (sizeMax - sizeMin + 1); \n",
        "    auto sub = generateText(alphabet, size);\n",
        "    subs.push_back(sub);\n",
        "  }\n",
        "\n",
        "  return subs;\n",
        "}\n",
        "\n",
        "template <typename T>\n",
        "void iterate(const vector<T>& text, const map<T, vector<pair<int, int>>>& dict,\n",
        "            vector<vector<int>>& matrix){\n",
        "  for (int chr_ind = 0; chr_ind < text.size(); ++chr_ind){\n",
        "    for (const auto pair : dict.at(text[chr_ind])){\n",
        "      matrix[pair.first][chr_ind - pair.second]--;\n",
        "    }\n",
        "  }\n",
        "}\n",
        "\n",
        "vector<pair<int, int>> findIndices(const vector<vector<int>>& mat){\n",
        "  vector<pair<int, int>> result;\n",
        "\n",
        "  int textSize = mat[0].size();\n",
        "\n",
        "  for (int subInd = 0; subInd < mat.size(); ++subInd){\n",
        "    for (int textPos = 0; textPos < textSize; ++textPos){\n",
        "      if (mat[subInd][textPos] == 0){\n",
        "        result.push_back({subInd, textPos});\n",
        "      }\n",
        "    }\n",
        "  }\n",
        "\n",
        "  return result;\n",
        "}\n",
        "\n",
        "vector<bool> findEntries(const vector<vector<int>>& mat){\n",
        "  \n",
        "  vector<bool> result(mat.size(), false);\n",
        "  int textSize = mat[0].size();\n",
        "\n",
        "  for (int subInd = 0; subInd < mat.size(); ++subInd){\n",
        "    for (int textPos = 0; textPos < textSize; ++textPos){\n",
        "      if (mat[subInd][textPos] == 0){\n",
        "        result[subInd] = true;\n",
        "        break;\n",
        "      }\n",
        "    }\n",
        "  }\n",
        "\n",
        "  return result;\n",
        "}\n",
        "\n",
        "ostream& operator<<(ostream& os, const vector<pair<int, int>>& pairs){\n",
        "    os << \"{\";\n",
        "    for (int i = 0; i < pairs.size(); ++i){\n",
        "      auto it = pairs[i];\n",
        "      os << \"(\" << it.first << \", \" << it.second;\n",
        "      os << (i == pairs.size() - 1 ? \")}\" : \"), \");\n",
        "    }\n",
        "\n",
        "    return os;\n",
        "}\n",
        "\n",
        "ostream& operator<<(ostream& os, const vector<bool>& flags){\n",
        "    os << \"{\";\n",
        "    for (int i = 0; i < flags.size(); ++i){\n",
        "      os << (flags[i] ? \"True\" : \"False\");\n",
        "      os << (i == flags.size() - 1 ? \"}\" : \", \");\n",
        "    }\n",
        "\n",
        "    return os;\n",
        "}\n",
        "\n",
        "template<typename T>\n",
        "void printText(const vector<T>& text, ostream& os){ \n",
        "   for (int i = 0; i < text.size(); ++i)\n",
        "   {\n",
        "     os << (T)text[i] << (i == text.size() - 1 ? \"\" : \" \");\n",
        "   }\n",
        "   os << endl;\n",
        "}\n",
        "\n",
        "template<typename T>\n",
        "void printSubs(const vector<vector<T>>& subs, ostream& os){ \n",
        "   for(auto sub : subs){\n",
        "     printText(sub, os);\n",
        "   }\n",
        "}\n",
        "\n",
        "void search(int textSize, int subN, int subSizeMin, int subSizeMax, SearchType searchType){\n",
        "  \n",
        "  ofstream myfile;\n",
        "  myfile.open (\"data.txt\");\n",
        "\n",
        "  // Generate 8bit alphabet\n",
        "  int alphabetSize = 256;\n",
        "  vector<int> alphabet(alphabetSize);\n",
        "  for (int i = 0; i < alphabetSize; ++i){\n",
        "    alphabet[i] = i;\n",
        "  }\n",
        "\n",
        "  // Generate text\n",
        "  vector<int> text = generateText<int>(alphabet, textSize);\n",
        "\n",
        "  // Generate substrings\n",
        "  auto subs = generateSubs<int>(alphabet, subN, subSizeMin, subSizeMax);\n",
        "  vector<int> subsSizes = getSubSizes<int>(subs);\n",
        "\n",
        "  // Preliminary step\n",
        "  map<int, vector<pair<int, int>>> dict = generateDict<int>(alphabet, subs);\n",
        "  vector<vector<int>> mat = generateMatrix(subsSizes, textSize);\n",
        "  \n",
        "  // Algorithm steps\n",
        "  iterate<int>(text, dict, mat);\n",
        "\n",
        "  // Save input data\n",
        "  myfile << textSize << \" \" << subN << \" \" <<  subSizeMin << \" \"\n",
        "     << subSizeMax << \" \" << searchType << endl;\n",
        "  printText(alphabet, myfile);\n",
        "  printText(text, myfile);\n",
        "  printSubs(subs, myfile);\n",
        "\n",
        "  // Interpret results\n",
        "  switch(searchType){\n",
        "    case Indicies:{\n",
        "      vector<pair<int, int>> indices = findIndices(mat);\n",
        "      myfile << indices << endl;\n",
        "    }\n",
        "    break;\n",
        "    case Entries:{\n",
        "      vector<bool> entries = findEntries(mat);\n",
        "      myfile << entries << endl;\n",
        "      break;\n",
        "    } \n",
        "  }\n",
        "  myfile.close();\n",
        "}\n",
        "\n",
        "int main(int argc, char** argv){\n",
        "  srand(42);\n",
        "\n",
        "  int textSize = stoi(argv[1]);\n",
        "  int subN = stoi(argv[2]);\n",
        "  int subSizeMin = stoi(argv[3]);\n",
        "  int subSizeMax = stoi(argv[4]);\n",
        "  SearchType searchType = (SearchType)stoi(argv[5]);\n",
        "\n",
        "  search(textSize, subN, subSizeMin, subSizeMax, searchType);\n",
        "\n",
        "  return 0;\n",
        "}"
      ],
      "metadata": {
        "colab": {
          "base_uri": "https://localhost:8080/"
        },
        "id": "C4iKxc7pDK8P",
        "outputId": "3cc940e7-3153-498a-ef60-4a9482e867f4"
      },
      "execution_count": 330,
      "outputs": [
        {
          "output_type": "stream",
          "name": "stdout",
          "text": [
            "Overwriting src/cpu.cpp\n"
          ]
        }
      ]
    },
    {
      "cell_type": "code",
      "source": [
        "!g++ -O2 src/cpu.cpp -o cpu"
      ],
      "metadata": {
        "id": "_3Tg93ETDcu8"
      },
      "execution_count": 331,
      "outputs": []
    },
    {
      "cell_type": "code",
      "source": [
        "!./cpu 100 10 1 7 1"
      ],
      "metadata": {
        "id": "GJbZQKZaDjxe"
      },
      "execution_count": 333,
      "outputs": []
    },
    {
      "cell_type": "markdown",
      "source": [
        "# C++ (GPU)"
      ],
      "metadata": {
        "id": "1PJ6h7_Dmpxa"
      }
    },
    {
      "cell_type": "code",
      "source": [],
      "metadata": {
        "id": "Ucg5Z5i5mxMs"
      },
      "execution_count": null,
      "outputs": []
    },
    {
      "cell_type": "markdown",
      "source": [],
      "metadata": {
        "id": "UGHTg-QpnK5C"
      }
    }
  ]
}