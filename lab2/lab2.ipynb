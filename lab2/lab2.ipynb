{
  "nbformat": 4,
  "nbformat_minor": 0,
  "metadata": {
    "colab": {
      "provenance": [],
      "collapsed_sections": [],
      "include_colab_link": true
    },
    "kernelspec": {
      "name": "python3",
      "display_name": "Python 3"
    },
    "language_info": {
      "name": "python"
    },
    "accelerator": "GPU"
  },
  "cells": [
    {
      "cell_type": "markdown",
      "metadata": {
        "id": "view-in-github",
        "colab_type": "text"
      },
      "source": [
        "<a href=\"https://colab.research.google.com/github/Anteii/HPC-Labs/blob/main/lab2/lab2.ipynb\" target=\"_parent\"><img src=\"https://colab.research.google.com/assets/colab-badge.svg\" alt=\"Open In Colab\"/></a>"
      ]
    },
    {
      "cell_type": "markdown",
      "source": [
        "# Notebook Setup"
      ],
      "metadata": {
        "id": "bhzV7U1pSTtk"
      }
    },
    {
      "cell_type": "code",
      "source": [
        "from IPython.display import clear_output"
      ],
      "metadata": {
        "id": "RhDUExVMO-_N"
      },
      "execution_count": 1,
      "outputs": []
    },
    {
      "cell_type": "code",
      "execution_count": 2,
      "metadata": {
        "id": "8n1SBRVyO6gy"
      },
      "outputs": [],
      "source": [
        "#!apt-get --purge remove cuda nvidia* libnvidia-*\n",
        "#!dpkg -l | grep cuda- | awk '{print $2}' | xargs -n1 dpkg --purge\n",
        "#!apt-get remove cuda-*\n",
        "#!apt autoremove\n",
        "#!apt-get update\n",
        "\n",
        "#clear_output()"
      ]
    },
    {
      "cell_type": "code",
      "source": [
        "#!wget https://developer.nvidia.com/compute/cuda/9.2/Prod/local_installers/cuda-repo-ubuntu1604-9-2-local_9.2.88-1_amd64 -O cuda-repo-ubuntu1604-9-2-local_9.2.88-1_amd64.deb\n",
        "#!dpkg -i cuda-repo-ubuntu1604-9-2-local_9.2.88-1_amd64.deb\n",
        "#!apt-key add /var/cuda-repo-9-2-local/7fa2af80.pub\n",
        "#!apt-get update\n",
        "#!apt-get install cuda-9.2"
      ],
      "metadata": {
        "id": "At99OMxjPR2O"
      },
      "execution_count": 3,
      "outputs": []
    },
    {
      "cell_type": "code",
      "source": [
        "!nvcc --version"
      ],
      "metadata": {
        "id": "ePypDIpO5hBV",
        "colab": {
          "base_uri": "https://localhost:8080/"
        },
        "outputId": "7a50ee32-95ff-423b-857f-fdea7c0d3c4f"
      },
      "execution_count": 4,
      "outputs": [
        {
          "output_type": "stream",
          "name": "stdout",
          "text": [
            "nvcc: NVIDIA (R) Cuda compiler driver\n",
            "Copyright (c) 2005-2021 NVIDIA Corporation\n",
            "Built on Sun_Feb_14_21:12:58_PST_2021\n",
            "Cuda compilation tools, release 11.2, V11.2.152\n",
            "Build cuda_11.2.r11.2/compiler.29618528_0\n"
          ]
        }
      ]
    },
    {
      "cell_type": "code",
      "source": [
        "!nvidia-smi"
      ],
      "metadata": {
        "colab": {
          "base_uri": "https://localhost:8080/"
        },
        "id": "Aw06F-_2osZc",
        "outputId": "e0228655-77bb-4150-ef19-b026eda76fb3"
      },
      "execution_count": 5,
      "outputs": [
        {
          "output_type": "stream",
          "name": "stdout",
          "text": [
            "Mon Oct 17 21:03:32 2022       \n",
            "+-----------------------------------------------------------------------------+\n",
            "| NVIDIA-SMI 460.32.03    Driver Version: 460.32.03    CUDA Version: 11.2     |\n",
            "|-------------------------------+----------------------+----------------------+\n",
            "| GPU  Name        Persistence-M| Bus-Id        Disp.A | Volatile Uncorr. ECC |\n",
            "| Fan  Temp  Perf  Pwr:Usage/Cap|         Memory-Usage | GPU-Util  Compute M. |\n",
            "|                               |                      |               MIG M. |\n",
            "|===============================+======================+======================|\n",
            "|   0  Tesla T4            Off  | 00000000:00:04.0 Off |                    0 |\n",
            "| N/A   39C    P8     9W /  70W |      0MiB / 15109MiB |      0%      Default |\n",
            "|                               |                      |                  N/A |\n",
            "+-------------------------------+----------------------+----------------------+\n",
            "                                                                               \n",
            "+-----------------------------------------------------------------------------+\n",
            "| Processes:                                                                  |\n",
            "|  GPU   GI   CI        PID   Type   Process name                  GPU Memory |\n",
            "|        ID   ID                                                   Usage      |\n",
            "|=============================================================================|\n",
            "|  No running processes found                                                 |\n",
            "+-----------------------------------------------------------------------------+\n"
          ]
        }
      ]
    },
    {
      "cell_type": "code",
      "source": [
        "!pip install git+https://github.com/andreinechaev/nvcc4jupyter.git\n",
        "clear_output()"
      ],
      "metadata": {
        "id": "phJLdxUrhA5F"
      },
      "execution_count": 6,
      "outputs": []
    },
    {
      "cell_type": "code",
      "source": [
        "%load_ext nvcc_plugin"
      ],
      "metadata": {
        "colab": {
          "base_uri": "https://localhost:8080/"
        },
        "id": "PPhAwT39PgAN",
        "outputId": "faf0f9b8-8f5c-4931-da35-24a9393b14bc"
      },
      "execution_count": 7,
      "outputs": [
        {
          "output_type": "stream",
          "name": "stdout",
          "text": [
            "created output directory at /content/src\n",
            "Out bin /content/result.out\n"
          ]
        }
      ]
    },
    {
      "cell_type": "code",
      "source": [
        "import numpy as np\n",
        "import matplotlib.pyplot as plt\n",
        "import seaborn as sns\n",
        "\n",
        "\n",
        "def readData(paramNames, classes):\n",
        "  params = dict()\n",
        "\n",
        "  for ind, name in enumerate(paramNames):\n",
        "    with open(f\"{name}.txt\", \"r\") as f:\n",
        "      params[name] = np.array(list(map(classes[ind], f.readline().split())))\n",
        "\n",
        "  return params\n"
      ],
      "metadata": {
        "id": "Bqkhik83h9rg"
      },
      "execution_count": 9,
      "outputs": []
    },
    {
      "cell_type": "markdown",
      "source": [
        "# Vector reduction"
      ],
      "metadata": {
        "id": "SEI19zNqSWQ6"
      }
    },
    {
      "cell_type": "code",
      "source": [
        "%%cu\n",
        "#include <iostream>\n",
        "#include <ctime>\n",
        "#include <fstream>\n",
        "#include <cassert>\n",
        "\n",
        "using namespace std;\n",
        "\n",
        "template<typename T>\n",
        "void serializeArr(T* arr, int N, const string& paramName){\n",
        "  ofstream myfile (paramName + \".txt\");\n",
        "  if (myfile.is_open())\n",
        "  {\n",
        "    for(int i = 0; i < N; ++i){\n",
        "        myfile << arr[i] << \" \";\n",
        "    }\n",
        "    myfile.close();\n",
        "  }\n",
        "  else cout << \"Unable to open file\";\n",
        "}\n",
        "\n",
        "void checkError(cudaError_t error){\n",
        "\tif (error != cudaSuccess){\n",
        "\t\tcout << \"Error\" << endl;\n",
        "\t\tcerr << cudaGetErrorString(error) << endl;\n",
        "\t\texit(1);\n",
        "\t}\n",
        "}\n",
        "\n",
        "template<int blockSize, typename T_in, typename T_out>\n",
        "__global__ void reduceVecKernel(const T_in* inArr, int N, T_out* buff) {\n",
        "    int tid = threadIdx.x;\n",
        "    int i = blockIdx.x * blockSize + tid;\n",
        "    \n",
        "    const int gridSize = blockSize * gridDim.x;\n",
        "\n",
        "    T_out sum = 0;\n",
        "\n",
        "    for (int j = i; j < N; j += gridSize){        \n",
        "        sum += inArr[j];\n",
        "    }\n",
        "\n",
        "    __shared__ T_out sdata[blockSize];\n",
        "\n",
        "    sdata[tid] = sum;\n",
        "\n",
        "    __syncthreads();\n",
        "\n",
        "    for (int s = blockSize/2; s > 0; s >>= 1) {\n",
        "        if (tid < s)\n",
        "            sdata[tid] += sdata[tid + s];\n",
        "        __syncthreads();\n",
        "    }\n",
        "\n",
        "    if (tid == 0)\n",
        "        buff[blockIdx.x] = sdata[0];\n",
        "}\n",
        "\n",
        "template<int blockSize, int gridSize>\n",
        "__host__ float reduceVecGpu(int* arr, const int N, long* result) {\n",
        "    \n",
        "    int* arr_dev;\n",
        "    long* buff_dev;\n",
        "  \n",
        "    int arr_type_size = sizeof(int);\n",
        "    int buff_type_size = sizeof(long);\n",
        "\n",
        "    int arr_size = N * arr_type_size; \n",
        "    int buff_size = blockSize * buff_type_size;\n",
        "\n",
        "    float totalTime;\n",
        "\t  cudaEvent_t startEvent, stopEvent;\n",
        "\n",
        "    checkError(cudaEventCreate(&startEvent));\n",
        "\t  checkError(cudaEventCreate(&stopEvent));\n",
        "\n",
        "    checkError(cudaMalloc(&arr_dev, arr_size));\n",
        "    checkError(cudaMemcpy(arr_dev, arr, arr_size, cudaMemcpyHostToDevice));\n",
        "\n",
        "    checkError(cudaMalloc(&buff_dev, buff_size));\n",
        "    checkError(cudaMemset(buff_dev, 0, buff_size));\n",
        "    \n",
        "    checkError(cudaEventRecord(startEvent, 0));\n",
        "\n",
        "    // Reduction by blocks\n",
        "    reduceVecKernel<blockSize, int, long><<<gridSize, blockSize>>>(arr_dev, N, buff_dev);\n",
        "    \n",
        "    checkError(cudaEventRecord(stopEvent, 0));\n",
        "    \n",
        "    // Reduction with intermediate results\n",
        "    reduceVecKernel<blockSize, long, long><<<1, blockSize>>>(buff_dev, gridSize, buff_dev);\n",
        "\n",
        "    checkError(cudaDeviceSynchronize());\n",
        "    \n",
        "    checkError(cudaEventElapsedTime(&totalTime, startEvent, stopEvent));\n",
        "    \n",
        "    checkError(cudaMemcpy(result, buff_dev, 1 * buff_type_size, cudaMemcpyDeviceToHost));\n",
        "    \n",
        "    cudaFree(arr_dev);\n",
        "    cudaFree(buff_dev);\n",
        "    \n",
        "    return totalTime / 1000;\n",
        "}\n",
        "\n",
        "float reduceVecCpu(int* vec, int N, long* cumSum){\n",
        "    \n",
        "    long cumSumLoc = 0;\n",
        "    clock_t start, end;\n",
        "\n",
        "    start = clock();\n",
        "\n",
        "    for (int i = 0; i < N; ++i){\n",
        "        cumSumLoc += vec[i];\n",
        "    }\n",
        "\n",
        "    end = clock();\n",
        "\n",
        "    *cumSum = cumSumLoc;\n",
        "\n",
        "    return 1.0f * (end - start) / CLOCKS_PER_SEC;\n",
        "}\n",
        "\n",
        "void randomFill(int* vec, int N, \n",
        "                float scale = 1, float bias = 0){\n",
        "    for (int i = 0; i < N; ++i){\n",
        "        vec[i] = scale * rand() / RAND_MAX + bias;\n",
        "    }\n",
        "}\n",
        "\n",
        "void printVec(int* vec, int N){\n",
        "    cout << \"[ \"; \n",
        "    for (int i = 0; i < N; ++i){\n",
        "        cout << vec[i] << (i == N-1 ? \"\": \", \");\n",
        "    }\n",
        "    cout << \"]\" << endl;\n",
        "}\n",
        "\n",
        "void experiment(int N, int repeats,\n",
        "                float* cpuTime, float* gpuTime){\n",
        "    \n",
        "    *cpuTime = 0;\n",
        "    *gpuTime = 0;\n",
        "\n",
        "    int* vec = (int*)malloc(N * sizeof(int));\n",
        "    long cumSumCpu = 0;\n",
        "    long cumSumGpu = 0;\n",
        "\n",
        "    for (int repeat = 0; repeat < repeats; ++repeat){\n",
        "        randomFill(vec, N, 10000, 0);\n",
        "\n",
        "        *cpuTime += reduceVecCpu(vec, N, &cumSumCpu);\n",
        "        *gpuTime += reduceVecGpu<1024, 32>(vec, N, &cumSumGpu);\n",
        "        \n",
        "        assert( cumSumCpu == cumSumGpu );\n",
        "    }\n",
        "    \n",
        "    *cpuTime /= repeats;\n",
        "    *gpuTime /= repeats;\n",
        "\n",
        "    // cout << \"CPU Time: \" << *cpuTime << endl;\n",
        "    // cout << \"GPU Time: \" << *gpuTime << endl;\n",
        "    \n",
        "    free(vec);\n",
        "}\n",
        "\n",
        "int main(){\n",
        "    \n",
        "    srand(42);\n",
        " \n",
        "    int expNum = 100;\n",
        "    int nRuns = 5;\n",
        "\n",
        "    int* paramN = (int*)malloc(expNum * sizeof(int));\n",
        " \n",
        "    float* paramCpuTime = (float*)malloc(expNum * sizeof(float));\n",
        "    float* paramGpuTime = (float*)malloc(expNum * sizeof(float));\n",
        "\n",
        "\n",
        "    for (int i = 0; i < expNum; ++i){\n",
        "        \n",
        "        paramN[i] = int(1000000 * 1.0f * rand() / RAND_MAX) + 1000;\n",
        "        //paramN[i] = 523250 + i;\n",
        "        //cout << \"N = \" << paramN[i] << endl;\n",
        "        experiment(paramN[i], nRuns,\n",
        "                  paramCpuTime + i, paramGpuTime + i);\n",
        "    }\n",
        "\n",
        "    // For easy conversion to python\n",
        "    \n",
        "    serializeArr<int>(paramN, expNum, \"N\");\n",
        "    serializeArr<float>(paramCpuTime, expNum, \"cpuTime\");\n",
        "    serializeArr<float>(paramGpuTime, expNum, \"gpuTime\");\n",
        "\n",
        "    free(paramN);\n",
        "    free(paramCpuTime);\n",
        "    free(paramGpuTime);\n",
        "\n",
        "    return 0;\n",
        "}"
      ],
      "metadata": {
        "id": "G5siYf7uLUIH"
      },
      "execution_count": null,
      "outputs": []
    },
    {
      "cell_type": "markdown",
      "source": [
        "# Visualization"
      ],
      "metadata": {
        "id": "hgc9EKs4iS0Q"
      }
    },
    {
      "cell_type": "markdown",
      "source": [
        "Про выбор конфигурации сетки\n",
        "https://events.prace-ri.eu/event/477/sessions/1420/attachments/391/580/CUDA_MM.pdf"
      ],
      "metadata": {
        "id": "t5rEQoCwUq53"
      }
    },
    {
      "cell_type": "code",
      "source": [
        "params = readData([\"N\", \"cpuTime\", \"gpuTime\"], [int, float, float])\n",
        "\n",
        "sorted_data = sorted(np.transpose(list(params.values())).tolist(), key=lambda x:x[0])\n",
        "N, cpu_time, gpu_time = np.transpose(sorted_data)\n",
        "speed_up = cpu_time / gpu_time\n",
        "\n",
        "expNum = len(N)\n",
        "\n",
        "fig, axs = plt.subplots(ncols=2, figsize=(20, 4))\n",
        "\n",
        "axs[0].set_title(\"Время, сек\")\n",
        "axs[0].set_xlabel(\"Размерность\")\n",
        "axs[0].set_ylabel(\"Время, сек\")\n",
        "axs[0].grid()\n",
        "sns.scatterplot(x=N, y=cpu_time, ax=axs[0])\n",
        "sns.scatterplot(x=N, y=gpu_time, ax=axs[0])\n",
        "sns.lineplot(x=N, y=cpu_time, ax=axs[0], label=\"cpu\")\n",
        "sns.lineplot(x=N, y=gpu_time, ax=axs[0], label=\"gpu\")\n",
        "\n",
        "axs[1].set_title(\"Ускорение\")\n",
        "axs[1].set_xlabel(\"Размерность\")\n",
        "axs[1].set_ylabel(\"Ускорение\")\n",
        "axs[1].grid()\n",
        "\n",
        "sns.scatterplot(x=N, y=speed_up, ax=axs[1])\n",
        "sns.lineplot(x=N, y=speed_up, ax=axs[1]);"
      ],
      "metadata": {
        "colab": {
          "base_uri": "https://localhost:8080/",
          "height": 295
        },
        "id": "9xpFLI1GUhP8",
        "outputId": "0d53e277-bfc9-44dc-bf25-4e454b816b95"
      },
      "execution_count": 142,
      "outputs": [
        {
          "output_type": "display_data",
          "data": {
            "text/plain": [
              "<Figure size 1440x288 with 2 Axes>"
            ],
            "image/png": "[encoded data removed]"
          },
          "metadata": {
            "needs_background": "light"
          }
        }
      ]
    },
    {
      "cell_type": "markdown",
      "source": [
        "При размере блока 512, начиная с 523265 элемента идет просадка ускорения, при 1024 этого нет, размер лонга в куде - 8 байт."
      ],
      "metadata": {
        "id": "LDOMBAZH59t3"
      }
    }
  ]
}