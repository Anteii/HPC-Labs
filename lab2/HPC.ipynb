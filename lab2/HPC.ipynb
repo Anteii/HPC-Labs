{
  "nbformat": 4,
  "nbformat_minor": 0,
  "metadata": {
    "colab": {
      "provenance": [],
      "collapsed_sections": [],
      "include_colab_link": true
    },
    "kernelspec": {
      "name": "python3",
      "display_name": "Python 3"
    },
    "language_info": {
      "name": "python"
    },
    "accelerator": "GPU"
  },
  "cells": [
    {
      "cell_type": "markdown",
      "metadata": {
        "id": "view-in-github",
        "colab_type": "text"
      },
      "source": [
        "<a href=\"https://colab.research.google.com/github/Anteii/HPC-Labs/blob/main/lab2/HPC.ipynb\" target=\"_parent\"><img src=\"https://colab.research.google.com/assets/colab-badge.svg\" alt=\"Open In Colab\"/></a>"
      ]
    },
    {
      "cell_type": "markdown",
      "source": [
        "# Notebook Setup"
      ],
      "metadata": {
        "id": "bhzV7U1pSTtk"
      }
    },
    {
      "cell_type": "code",
      "source": [
        "from IPython.display import clear_output"
      ],
      "metadata": {
        "id": "RhDUExVMO-_N"
      },
      "execution_count": 1,
      "outputs": []
    },
    {
      "cell_type": "code",
      "execution_count": 2,
      "metadata": {
        "id": "8n1SBRVyO6gy"
      },
      "outputs": [],
      "source": [
        "#!apt-get --purge remove cuda nvidia* libnvidia-*\n",
        "#!dpkg -l | grep cuda- | awk '{print $2}' | xargs -n1 dpkg --purge\n",
        "#!apt-get remove cuda-*\n",
        "#!apt autoremove\n",
        "#!apt-get update\n",
        "\n",
        "#clear_output()"
      ]
    },
    {
      "cell_type": "code",
      "source": [
        "#!wget https://developer.nvidia.com/compute/cuda/9.2/Prod/local_installers/cuda-repo-ubuntu1604-9-2-local_9.2.88-1_amd64 -O cuda-repo-ubuntu1604-9-2-local_9.2.88-1_amd64.deb\n",
        "#!dpkg -i cuda-repo-ubuntu1604-9-2-local_9.2.88-1_amd64.deb\n",
        "#!apt-key add /var/cuda-repo-9-2-local/7fa2af80.pub\n",
        "#!apt-get update\n",
        "#!apt-get install cuda-9.2"
      ],
      "metadata": {
        "id": "At99OMxjPR2O"
      },
      "execution_count": 3,
      "outputs": []
    },
    {
      "cell_type": "code",
      "source": [
        "!nvcc --version"
      ],
      "metadata": {
        "id": "ePypDIpO5hBV",
        "colab": {
          "base_uri": "https://localhost:8080/"
        },
        "outputId": "a239250e-b7f2-4b5d-8c29-8a10ca075ee2"
      },
      "execution_count": 4,
      "outputs": [
        {
          "output_type": "stream",
          "name": "stdout",
          "text": [
            "nvcc: NVIDIA (R) Cuda compiler driver\n",
            "Copyright (c) 2005-2021 NVIDIA Corporation\n",
            "Built on Sun_Feb_14_21:12:58_PST_2021\n",
            "Cuda compilation tools, release 11.2, V11.2.152\n",
            "Build cuda_11.2.r11.2/compiler.29618528_0\n"
          ]
        }
      ]
    },
    {
      "cell_type": "code",
      "source": [
        "!nvidia-smi"
      ],
      "metadata": {
        "colab": {
          "base_uri": "https://localhost:8080/"
        },
        "id": "Aw06F-_2osZc",
        "outputId": "4543cb87-7675-4174-a8fb-67cae3497b28"
      },
      "execution_count": 5,
      "outputs": [
        {
          "output_type": "stream",
          "name": "stdout",
          "text": [
            "Mon Oct 17 19:51:24 2022       \n",
            "+-----------------------------------------------------------------------------+\n",
            "| NVIDIA-SMI 460.32.03    Driver Version: 460.32.03    CUDA Version: 11.2     |\n",
            "|-------------------------------+----------------------+----------------------+\n",
            "| GPU  Name        Persistence-M| Bus-Id        Disp.A | Volatile Uncorr. ECC |\n",
            "| Fan  Temp  Perf  Pwr:Usage/Cap|         Memory-Usage | GPU-Util  Compute M. |\n",
            "|                               |                      |               MIG M. |\n",
            "|===============================+======================+======================|\n",
            "|   0  Tesla T4            Off  | 00000000:00:04.0 Off |                    0 |\n",
            "| N/A   44C    P8     9W /  70W |      0MiB / 15109MiB |      0%      Default |\n",
            "|                               |                      |                  N/A |\n",
            "+-------------------------------+----------------------+----------------------+\n",
            "                                                                               \n",
            "+-----------------------------------------------------------------------------+\n",
            "| Processes:                                                                  |\n",
            "|  GPU   GI   CI        PID   Type   Process name                  GPU Memory |\n",
            "|        ID   ID                                                   Usage      |\n",
            "|=============================================================================|\n",
            "|  No running processes found                                                 |\n",
            "+-----------------------------------------------------------------------------+\n"
          ]
        }
      ]
    },
    {
      "cell_type": "code",
      "source": [
        "!pip install git+https://github.com/andreinechaev/nvcc4jupyter.git\n",
        "clear_output()"
      ],
      "metadata": {
        "id": "phJLdxUrhA5F"
      },
      "execution_count": 6,
      "outputs": []
    },
    {
      "cell_type": "code",
      "source": [
        "%load_ext nvcc_plugin"
      ],
      "metadata": {
        "colab": {
          "base_uri": "https://localhost:8080/"
        },
        "id": "PPhAwT39PgAN",
        "outputId": "ab7055c2-1e0d-4df5-e8ba-a99653e1fb47"
      },
      "execution_count": 7,
      "outputs": [
        {
          "output_type": "stream",
          "name": "stdout",
          "text": [
            "created output directory at /content/src\n",
            "Out bin /content/result.out\n"
          ]
        }
      ]
    },
    {
      "cell_type": "code",
      "source": [
        "import numpy as np\n",
        "import matplotlib.pyplot as plt\n",
        "import seaborn as sns\n",
        "\n",
        "\n",
        "def readData(paramNames, classes):\n",
        "  params = dict()\n",
        "\n",
        "  for ind, name in enumerate(paramNames):\n",
        "    with open(f\"{name}.txt\", \"r\") as f:\n",
        "      params[name] = np.array(list(map(classes[ind], f.readline().split())))\n",
        "\n",
        "  return params\n",
        "\n",
        "readData([\"N\", \"cpuTime\", \"gpuTime\"], [int, float, float])"
      ],
      "metadata": {
        "colab": {
          "base_uri": "https://localhost:8080/"
        },
        "id": "Bqkhik83h9rg",
        "outputId": "5f128457-68c3-461c-b66a-a2d69c511be8"
      },
      "execution_count": 45,
      "outputs": [
        {
          "output_type": "execute_result",
          "data": {
            "text/plain": [
              "{'N': array([ 33470, 304665, 280225, 285691, 678240,  46866, 827364, 704379,\n",
              "        514910, 334179, 396924, 548219, 870221, 143957, 400505, 739445,\n",
              "        252571, 350717, 280779, 231553]),\n",
              " 'cpuTime': array([9.87500e-05, 8.35750e-04, 8.13500e-04, 8.19750e-04, 1.73175e-03,\n",
              "        1.19250e-04, 2.14550e-03, 1.78325e-03, 1.30025e-03, 8.46750e-04,\n",
              "        1.01050e-03, 1.46150e-03, 2.32225e-03, 3.70750e-04, 1.02850e-03,\n",
              "        1.93700e-03, 7.28500e-04, 1.05300e-03, 8.42750e-04, 6.98500e-04]),\n",
              " 'gpuTime': array([1.98560e-05, 4.72720e-05, 4.50480e-05, 4.50880e-05, 9.62560e-05,\n",
              "        1.95760e-05, 1.12376e-04, 9.81920e-05, 7.16000e-05, 5.22960e-05,\n",
              "        5.82560e-05, 8.48560e-05, 1.16888e-04, 3.06080e-05, 5.80960e-05,\n",
              "        1.02184e-04, 4.19600e-05, 5.35200e-05, 4.51200e-05, 4.02720e-05])}"
            ]
          },
          "metadata": {},
          "execution_count": 45
        }
      ]
    },
    {
      "cell_type": "markdown",
      "source": [
        "# Vector reduction"
      ],
      "metadata": {
        "id": "SEI19zNqSWQ6"
      }
    },
    {
      "cell_type": "code",
      "source": [
        "%%cu\n",
        "#include <iostream>\n",
        "#include <ctime>\n",
        "#include <fstream>\n",
        "#include <cassert>\n",
        "\n",
        "using namespace std;\n",
        "\n",
        "template<typename T>\n",
        "void serializeArr(T* arr, int N, const string& paramName){\n",
        "  ofstream myfile (paramName + \".txt\");\n",
        "  if (myfile.is_open())\n",
        "  {\n",
        "    for(int i = 0; i < N; ++i){\n",
        "        myfile << arr[i] << \" \";\n",
        "    }\n",
        "    myfile.close();\n",
        "  }\n",
        "  else cout << \"Unable to open file\";\n",
        "}\n",
        "\n",
        "void checkError(cudaError_t error){\n",
        "\tif (error != cudaSuccess){\n",
        "\t\tcout << \"Error\" << endl;\n",
        "\t\tcerr << cudaGetErrorString(error) << endl;\n",
        "\t\texit(1);\n",
        "\t}\n",
        "}\n",
        "\n",
        "template<int blockSize, typename T_id, typename T_out>\n",
        "__global__ void reduceVecKernel(const T_id* inArr, int N, T_out* buff) {\n",
        "    int tid = threadIdx.x;\n",
        "    int i = blockIdx.x * blockSize + tid;\n",
        "    \n",
        "    const int gridSize = blockSize * gridDim.x;\n",
        "\n",
        "    T_out sum = 0;\n",
        "\n",
        "    for (int j = i; j < N; j += gridSize)\n",
        "        sum += inArr[j];\n",
        "\n",
        "    __shared__ T_out sdata[blockSize];\n",
        "\n",
        "    sdata[tid] = sum;\n",
        "\n",
        "    __syncthreads();\n",
        "\n",
        "    for (int s = blockSize/2; s>0; s/=2) { //uniform\n",
        "        if (tid < s)\n",
        "            sdata[tid] += sdata[tid + s];\n",
        "        __syncthreads();\n",
        "    }\n",
        "\n",
        "    if (tid == 0)\n",
        "        buff[blockIdx.x] = sdata[0];\n",
        "}\n",
        "\n",
        "template<int blockSize>\n",
        "__host__ float reduceVecGpu(int* arr, const int N, long* result) {\n",
        "    \n",
        "    int gridSize = int(1.0f * (N - 1) / blockSize) + 1;\n",
        "    int* arr_dev;\n",
        "    long* buff_dev;\n",
        "    \n",
        "    int arr_type_size = sizeof(int);\n",
        "    int buff_type_size = sizeof(long);\n",
        "\n",
        "    int arr_size = N * arr_type_size; \n",
        "    int buff_size = blockSize * buff_type_size;\n",
        "\n",
        "    float totalTime;\n",
        "\t  cudaEvent_t startEvent, stopEvent;\n",
        "\n",
        "    checkError(cudaEventCreate(&startEvent));\n",
        "\t  checkError(cudaEventCreate(&stopEvent));\n",
        "\n",
        "    checkError(cudaMalloc(&arr_dev, arr_size));\n",
        "    checkError(cudaMemcpy(arr_dev, arr, arr_size, cudaMemcpyHostToDevice));\n",
        "\n",
        "    checkError(cudaMalloc(&buff_dev, buff_size));\n",
        "    checkError(cudaMemset(buff_dev, 0, buff_size));\n",
        "    \n",
        "    checkError(cudaEventRecord(startEvent, 0));\n",
        "\n",
        "    // Reduction by blocks\n",
        "    reduceVecKernel<blockSize, int, long><<<gridSize, blockSize>>>(arr_dev, N, buff_dev);\n",
        "    // Reduction with intermediate results\n",
        "    reduceVecKernel<blockSize, long, long><<<1, blockSize>>>(buff_dev, gridSize, buff_dev);\n",
        "\n",
        "    checkError(cudaEventRecord(stopEvent, 0));\n",
        "\n",
        "    checkError(cudaDeviceSynchronize());\n",
        "    \n",
        "    checkError(cudaEventElapsedTime(&totalTime, startEvent, stopEvent));\n",
        "    \n",
        "    checkError(cudaMemcpy(result, buff_dev, 1 * buff_type_size, cudaMemcpyDeviceToHost));\n",
        "    \n",
        "    cudaFree(arr_dev);\n",
        "    cudaFree(buff_dev);\n",
        "    \n",
        "    return totalTime / 1000;\n",
        "}\n",
        "\n",
        "float reduceVecCpu(int* vec, int N, long* cumSum){\n",
        "    \n",
        "    long cumSumLoc = 0;\n",
        "    clock_t start, end;\n",
        "\n",
        "    start = clock();\n",
        "\n",
        "    for (int i = 0; i < N; ++i){\n",
        "        cumSumLoc += vec[i];\n",
        "    }\n",
        "\n",
        "    end = clock();\n",
        "\n",
        "    *cumSum = cumSumLoc;\n",
        "\n",
        "    return 1.0f * (end - start) / CLOCKS_PER_SEC;\n",
        "}\n",
        "\n",
        "void randomFill(int* vec, int N, \n",
        "                float scale = 1, float bias = 0){\n",
        "    for (int i = 0; i < N; ++i){\n",
        "        vec[i] = scale * rand() / RAND_MAX + bias;\n",
        "    }\n",
        "}\n",
        "\n",
        "void printVec(int* vec, int N){\n",
        "    cout << \"[ \"; \n",
        "    for (int i = 0; i < N; ++i){\n",
        "        cout << vec[i] << (i == N-1 ? \"\": \", \");\n",
        "    }\n",
        "    cout << \"]\" << endl;\n",
        "}\n",
        "\n",
        "void experiment(int N, int repeats,\n",
        "                float* cpuTime, float* gpuTime){\n",
        "    \n",
        "    *cpuTime = 0;\n",
        "    *gpuTime = 0;\n",
        "\n",
        "    int* vec = (int*)malloc(N * sizeof(int));\n",
        "    long cumSumCpu = 0;\n",
        "    long cumSumGpu = 0;\n",
        "\n",
        "    for (int repeat = 0; repeat < repeats; ++repeat){\n",
        "        randomFill(vec, N, 10000, 0);\n",
        "\n",
        "        *cpuTime += reduceVecCpu(vec, N, &cumSumCpu);\n",
        "        *gpuTime += reduceVecGpu<512>(vec, N, &cumSumGpu);\n",
        "        \n",
        "        assert( cumSumCpu == cumSumGpu );\n",
        "    }\n",
        "    \n",
        "    *cpuTime /= repeats;\n",
        "    *gpuTime /= repeats;\n",
        "\n",
        "    // cout << \"CPU Time: \" << *cpuTime << endl;\n",
        "    // cout << \"GPU Time: \" << *gpuTime << endl;\n",
        "    \n",
        "    free(vec);\n",
        "}\n",
        "\n",
        "int main(){\n",
        "    \n",
        "    srand(42);\n",
        " \n",
        "    int expNum = 100;\n",
        "    int nRuns = 5;\n",
        "\n",
        "    int* paramN = (int*)malloc(expNum * sizeof(int));\n",
        " \n",
        "    float* paramCpuTime = (float*)malloc(expNum * sizeof(float));\n",
        "    float* paramGpuTime = (float*)malloc(expNum * sizeof(float));\n",
        "\n",
        "\n",
        "    for (int i = 0; i < expNum; ++i){\n",
        "        \n",
        "        paramN[i] = int(1000000 * 1.0f * rand() / RAND_MAX) + 1;\n",
        "\n",
        "        // cout << \"N = \" << paramN[i] << endl;\n",
        "        experiment(paramN[i], nRuns,\n",
        "                  paramCpuTime + i, paramGpuTime + i);\n",
        "    }\n",
        "\n",
        "    // For easy conversion to python\n",
        "    \n",
        "    serializeArr<int>(paramN, expNum, \"N\");\n",
        "    serializeArr<float>(paramCpuTime, expNum, \"cpuTime\");\n",
        "    serializeArr<float>(paramGpuTime, expNum, \"gpuTime\");\n",
        "\n",
        "    free(paramN);\n",
        "    free(paramCpuTime);\n",
        "    free(paramGpuTime);\n",
        "\n",
        "    return 0;\n",
        "}"
      ],
      "metadata": {
        "id": "G5siYf7uLUIH",
        "colab": {
          "base_uri": "https://localhost:8080/"
        },
        "outputId": "dd8d6ed9-3f44-4beb-80cc-3534834fbe00"
      },
      "execution_count": 63,
      "outputs": [
        {
          "output_type": "stream",
          "name": "stdout",
          "text": [
            "\n"
          ]
        }
      ]
    },
    {
      "cell_type": "markdown",
      "source": [
        "# Visualization"
      ],
      "metadata": {
        "id": "hgc9EKs4iS0Q"
      }
    },
    {
      "cell_type": "markdown",
      "source": [
        "Про выбор конфигурации сетки\n",
        "https://events.prace-ri.eu/event/477/sessions/1420/attachments/391/580/CUDA_MM.pdf"
      ],
      "metadata": {
        "id": "t5rEQoCwUq53"
      }
    },
    {
      "cell_type": "code",
      "source": [
        "params = readData([\"N\", \"cpuTime\", \"gpuTime\"], [int, float, float])\n",
        "\n",
        "sorted_data = sorted(np.transpose(list(params.values())).tolist(), key=lambda x:x[0])\n",
        "N, cpu_time, gpu_time = np.transpose(sorted_data)\n",
        "speed_up = cpu_time / gpu_time\n",
        "\n",
        "expNum = len(N)\n",
        "\n",
        "fig, axs = plt.subplots(ncols=2, figsize=(20, 4))\n",
        "\n",
        "axs[0].set_title(\"Время, сек\")\n",
        "axs[0].set_xlabel(\"Размерность\")\n",
        "axs[0].set_ylabel(\"Время, сек\")\n",
        "axs[0].grid()\n",
        "sns.scatterplot(x=N, y=cpu_time, ax=axs[0])\n",
        "sns.scatterplot(x=N, y=gpu_time, ax=axs[0])\n",
        "sns.lineplot(x=N, y=cpu_time, ax=axs[0], label=\"cpu\")\n",
        "sns.lineplot(x=N, y=gpu_time, ax=axs[0], label=\"gpu\")\n",
        "\n",
        "axs[1].set_title(\"Ускорение\")\n",
        "axs[1].set_xlabel(\"Размерность\")\n",
        "axs[1].set_ylabel(\"Ускорение\")\n",
        "axs[1].grid()\n",
        "\n",
        "sns.scatterplot(x=N, y=speed_up, ax=axs[1])\n",
        "sns.lineplot(x=N, y=speed_up, ax=axs[1]);"
      ],
      "metadata": {
        "colab": {
          "base_uri": "https://localhost:8080/",
          "height": 295
        },
        "id": "9xpFLI1GUhP8",
        "outputId": "b7c431d7-a4c2-42f0-fc39-10a8c3348b20"
      },
      "execution_count": 61,
      "outputs": [
        {
          "output_type": "display_data",
          "data": {
            "text/plain": [
              "<Figure size 1440x288 with 2 Axes>"
            ],
            "image/png": "[encoded data removed]"
          },
          "metadata": {
            "needs_background": "light"
          }
        }
      ]
    }
  ]
}