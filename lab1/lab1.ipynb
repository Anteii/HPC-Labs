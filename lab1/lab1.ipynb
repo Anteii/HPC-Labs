{
  "nbformat": 4,
  "nbformat_minor": 0,
  "metadata": {
    "colab": {
      "provenance": [],
      "collapsed_sections": [
        "bhzV7U1pSTtk",
        "SEI19zNqSWQ6",
        "qFgfg-fcSZXi"
      ],
      "authorship_tag": "ABX9TyNjMWYgrWi+JeDM96JP3Csa",
      "include_colab_link": true
    },
    "kernelspec": {
      "name": "python3",
      "display_name": "Python 3"
    },
    "language_info": {
      "name": "python"
    }
  },
  "cells": [
    {
      "cell_type": "markdown",
      "metadata": {
        "id": "view-in-github",
        "colab_type": "text"
      },
      "source": [
        "<a href=\"https://colab.research.google.com/github/Anteii/HPC-Labs/blob/main/lab1/lab1.ipynb\" target=\"_parent\"><img src=\"https://colab.research.google.com/assets/colab-badge.svg\" alt=\"Open In Colab\"/></a>"
      ]
    },
    {
      "cell_type": "markdown",
      "source": [
        "# Imports"
      ],
      "metadata": {
        "id": "bhzV7U1pSTtk"
      }
    },
    {
      "cell_type": "code",
      "source": [
        "from IPython.display import clear_output"
      ],
      "metadata": {
        "id": "RhDUExVMO-_N"
      },
      "execution_count": 1,
      "outputs": []
    },
    {
      "cell_type": "code",
      "execution_count": 2,
      "metadata": {
        "id": "8n1SBRVyO6gy"
      },
      "outputs": [],
      "source": [
        "#!apt-get --purge remove cuda nvidia* libnvidia-*\n",
        "#!dpkg -l | grep cuda- | awk '{print $2}' | xargs -n1 dpkg --purge\n",
        "#!apt-get remove cuda-*\n",
        "#!apt autoremove\n",
        "#!apt-get update\n",
        "\n",
        "#clear_output()"
      ]
    },
    {
      "cell_type": "code",
      "source": [
        "#!wget https://developer.nvidia.com/compute/cuda/9.2/Prod/local_installers/cuda-repo-ubuntu1604-9-2-local_9.2.88-1_amd64 -O cuda-repo-ubuntu1604-9-2-local_9.2.88-1_amd64.deb\n",
        "#!dpkg -i cuda-repo-ubuntu1604-9-2-local_9.2.88-1_amd64.deb\n",
        "#!apt-key add /var/cuda-repo-9-2-local/7fa2af80.pub\n",
        "#!apt-get update\n",
        "#!apt-get install cuda-9.2"
      ],
      "metadata": {
        "id": "At99OMxjPR2O"
      },
      "execution_count": 3,
      "outputs": []
    },
    {
      "cell_type": "code",
      "source": [
        "!nvidia-smi"
      ],
      "metadata": {
        "colab": {
          "base_uri": "https://localhost:8080/"
        },
        "id": "Aw06F-_2osZc",
        "outputId": "9f88dc14-1fd5-4a12-f8b2-a258080268bf"
      },
      "execution_count": 13,
      "outputs": [
        {
          "output_type": "stream",
          "name": "stdout",
          "text": [
            "Fri Oct  7 18:08:55 2022       \n",
            "+-----------------------------------------------------------------------------+\n",
            "| NVIDIA-SMI 460.32.03    Driver Version: 460.32.03    CUDA Version: 11.2     |\n",
            "|-------------------------------+----------------------+----------------------+\n",
            "| GPU  Name        Persistence-M| Bus-Id        Disp.A | Volatile Uncorr. ECC |\n",
            "| Fan  Temp  Perf  Pwr:Usage/Cap|         Memory-Usage | GPU-Util  Compute M. |\n",
            "|                               |                      |               MIG M. |\n",
            "|===============================+======================+======================|\n",
            "|   0  Tesla T4            Off  | 00000000:00:04.0 Off |                    0 |\n",
            "| N/A   52C    P8    11W /  70W |      0MiB / 15109MiB |      0%      Default |\n",
            "|                               |                      |                  N/A |\n",
            "+-------------------------------+----------------------+----------------------+\n",
            "                                                                               \n",
            "+-----------------------------------------------------------------------------+\n",
            "| Processes:                                                                  |\n",
            "|  GPU   GI   CI        PID   Type   Process name                  GPU Memory |\n",
            "|        ID   ID                                                   Usage      |\n",
            "|=============================================================================|\n",
            "|  No running processes found                                                 |\n",
            "+-----------------------------------------------------------------------------+\n"
          ]
        }
      ]
    },
    {
      "cell_type": "code",
      "source": [
        "!git clone https://github.com/NVIDIA/cuda-samples.git\n",
        "!make -C /content/cuda-samples/Samples/1_Utilities/deviceQuery\n",
        "clear_output()\n",
        "!/content/cuda-samples/bin/x86_64/linux/release/deviceQuery"
      ],
      "metadata": {
        "colab": {
          "base_uri": "https://localhost:8080/"
        },
        "id": "Um0rg9wmoykP",
        "outputId": "0913743c-f8fd-4fdc-fd4a-7c7ccc2f26ef"
      },
      "execution_count": 34,
      "outputs": [
        {
          "output_type": "stream",
          "name": "stdout",
          "text": [
            "/content/cuda-samples/bin/x86_64/linux/release/deviceQuery Starting...\n",
            "\n",
            " CUDA Device Query (Runtime API) version (CUDART static linking)\n",
            "\n",
            "Detected 1 CUDA Capable device(s)\n",
            "\n",
            "Device 0: \"Tesla T4\"\n",
            "  CUDA Driver Version / Runtime Version          11.2 / 11.2\n",
            "  CUDA Capability Major/Minor version number:    7.5\n",
            "  Total amount of global memory:                 15110 MBytes (15843721216 bytes)\n",
            "  (040) Multiprocessors, (064) CUDA Cores/MP:    2560 CUDA Cores\n",
            "  GPU Max Clock rate:                            1590 MHz (1.59 GHz)\n",
            "  Memory Clock rate:                             5001 Mhz\n",
            "  Memory Bus Width:                              256-bit\n",
            "  L2 Cache Size:                                 4194304 bytes\n",
            "  Maximum Texture Dimension Size (x,y,z)         1D=(131072), 2D=(131072, 65536), 3D=(16384, 16384, 16384)\n",
            "  Maximum Layered 1D Texture Size, (num) layers  1D=(32768), 2048 layers\n",
            "  Maximum Layered 2D Texture Size, (num) layers  2D=(32768, 32768), 2048 layers\n",
            "  Total amount of constant memory:               65536 bytes\n",
            "  Total amount of shared memory per block:       49152 bytes\n",
            "  Total shared memory per multiprocessor:        65536 bytes\n",
            "  Total number of registers available per block: 65536\n",
            "  Warp size:                                     32\n",
            "  Maximum number of threads per multiprocessor:  1024\n",
            "  Maximum number of threads per block:           1024\n",
            "  Max dimension size of a thread block (x,y,z): (1024, 1024, 64)\n",
            "  Max dimension size of a grid size    (x,y,z): (2147483647, 65535, 65535)\n",
            "  Maximum memory pitch:                          2147483647 bytes\n",
            "  Texture alignment:                             512 bytes\n",
            "  Concurrent copy and kernel execution:          Yes with 3 copy engine(s)\n",
            "  Run time limit on kernels:                     No\n",
            "  Integrated GPU sharing Host Memory:            No\n",
            "  Support host page-locked memory mapping:       Yes\n",
            "  Alignment requirement for Surfaces:            Yes\n",
            "  Device has ECC support:                        Enabled\n",
            "  Device supports Unified Addressing (UVA):      Yes\n",
            "  Device supports Managed Memory:                Yes\n",
            "  Device supports Compute Preemption:            Yes\n",
            "  Supports Cooperative Kernel Launch:            Yes\n",
            "  Supports MultiDevice Co-op Kernel Launch:      Yes\n",
            "  Device PCI Domain ID / Bus ID / location ID:   0 / 0 / 4\n",
            "  Compute Mode:\n",
            "     < Default (multiple host threads can use ::cudaSetDevice() with device simultaneously) >\n",
            "\n",
            "deviceQuery, CUDA Driver = CUDART, CUDA Driver Version = 11.2, CUDA Runtime Version = 11.2, NumDevs = 1\n",
            "Result = PASS\n"
          ]
        }
      ]
    },
    {
      "cell_type": "code",
      "source": [
        "%load_ext nvcc_plugin"
      ],
      "metadata": {
        "colab": {
          "base_uri": "https://localhost:8080/"
        },
        "id": "PPhAwT39PgAN",
        "outputId": "ed92ad44-37c1-47f9-b00a-a1c637a3928f"
      },
      "execution_count": 6,
      "outputs": [
        {
          "output_type": "stream",
          "name": "stdout",
          "text": [
            "created output directory at /content/src\n",
            "Out bin /content/result.out\n"
          ]
        }
      ]
    },
    {
      "cell_type": "markdown",
      "source": [
        "# Test program"
      ],
      "metadata": {
        "id": "SEI19zNqSWQ6"
      }
    },
    {
      "cell_type": "code",
      "source": [
        "%%cu\n",
        "#include <iostream>\n",
        "int main()\n",
        "{\n",
        "    std::cout << \"Hello World!\\n\";\n",
        "    return 0;\n",
        "}"
      ],
      "metadata": {
        "colab": {
          "base_uri": "https://localhost:8080/"
        },
        "id": "hvx0z3b8PjMl",
        "outputId": "b7c8dd94-f1bb-4d57-bed9-d6933971a75b"
      },
      "execution_count": 7,
      "outputs": [
        {
          "output_type": "stream",
          "name": "stdout",
          "text": [
            "Hello World!\n",
            "\n"
          ]
        }
      ]
    },
    {
      "cell_type": "markdown",
      "source": [
        "# Matrix Multiplication"
      ],
      "metadata": {
        "id": "qFgfg-fcSZXi"
      }
    },
    {
      "cell_type": "code",
      "source": [
        "%%cu\n",
        "#include <cstdio>\n",
        "#include <iostream>\n",
        "#include <ctime>\n",
        "#include \"assert.h\"\n",
        "using namespace std;\n",
        "\n",
        "\n",
        "__global__ void matMulKernel(int* mat1, int* mat2, int* res, int N, int M, int K){\n",
        "     int row = blockIdx.y * blockDim.y + threadIdx.y;\n",
        "     int col = blockIdx.x * blockDim.x + threadIdx.x;\n",
        "\n",
        "     if (row < N && col < K){\n",
        "         res[row * K + col] = 0;\n",
        "         for (int i = 0; i < M; ++i) {\n",
        "            res[row * K + col] += mat1[row * M + i] * mat2[i * K + col];\n",
        "        }\n",
        "     }\n",
        "}\n",
        "\n",
        "float cpuMatMul(int* mat1, int* mat2, int* res, int N, int M, int K){\n",
        "    \n",
        "    clock_t start, end;\n",
        "\n",
        "    start = clock();\n",
        "\n",
        "    for (int i = 0; i < N; ++i){\n",
        "        for (int j = 0; j < K; ++j){\n",
        "            int t = 0;\n",
        "            for (int k = 0; k < M; ++k){\n",
        "                t += mat1[i * M + k] * mat2[k * K + j];\n",
        "            }\n",
        "            res[i * K + j] = t;\n",
        "        } \n",
        "    }\n",
        "\n",
        "    end = clock();\n",
        "    \n",
        "    return 1.0f * (end - start) / CLOCKS_PER_SEC;\n",
        "}\n",
        "\n",
        "void printMatrix(int* mat, int N, int M){\n",
        "    for (int i = 0; i < N; ++i){\n",
        "        for (int j = 0; j < M; ++j){\n",
        "            cout << mat[i * M + j] << \" \";\n",
        "        }\n",
        "        cout << endl;\n",
        "    }\n",
        "}\n",
        "\n",
        "void randomFillCPU(int* mat, int N, int M, float scale = 1, float bias = 0, int mod = RAND_MAX){\n",
        "  for (int i = 0; i < N * M; ++i){\n",
        "      mat[i] = int(scale * (rand() % mod) + bias);\n",
        "  }\n",
        "}\n",
        "\n",
        "void checkError(cudaError_t error){\n",
        "\tif (error != cudaSuccess){\n",
        "\t\tcout << \"Error\" << endl;\n",
        "\t\tcerr << cudaGetErrorString(error) << endl;\n",
        "\t\texit(1);\n",
        "\t}\n",
        "}\n",
        "\n",
        "float gpuMatMul(int* mat1, int* mat2, int* res, int N, int M, int K){\n",
        "\n",
        "    // Declare needed variables\n",
        "    int mat1_size = N * M * sizeof(int);\n",
        "    int mat2_size = M * K * sizeof(int);\n",
        "    int res_size = N * K * sizeof(int);\n",
        "\n",
        "    int* mat1_dev;\n",
        "    int* mat2_dev;\n",
        "    int* res_dev;\n",
        "\n",
        "    float start, end, totalTime;\n",
        "\t  cudaEvent_t startEvent, stopEvent;\n",
        "\n",
        "\t\t// Allocate memory on device\n",
        "\t\tcheckError(cudaMalloc(&mat1_dev, mat1_size));\n",
        "\t\tcheckError(cudaMalloc(&mat2_dev, mat2_size));\n",
        "\t\tcheckError(cudaMalloc(&res_dev, res_size));\n",
        "\n",
        "    // Copy mat1 and mat2 from host to device\n",
        "    checkError(cudaMemcpy(mat1_dev, mat1, mat1_size, cudaMemcpyHostToDevice)); \n",
        "    checkError(cudaMemcpy(mat2_dev, mat2, mat2_size, cudaMemcpyHostToDevice));\n",
        "\n",
        "    // Create events for fixing time\n",
        "    checkError(cudaEventCreate(&startEvent));\n",
        "\t  checkError(cudaEventCreate(&stopEvent));\n",
        "\n",
        "    // Create threads and blocks topography\n",
        "    dim3 blockDim(32, 32, 1);\n",
        "    \n",
        "    int gx = (K - 1) / blockDim.x + 1;\n",
        "    int gy = (N - 1) / blockDim.y + 1;\n",
        "     \n",
        "    dim3 gridDim(gx, gy, 1); // Don't need to write z = 1\n",
        "\n",
        "    // Write down current time\n",
        "    checkError(cudaEventRecord(startEvent, 0));\n",
        "\n",
        "    // Multiplicate matricies\n",
        "    matMulKernel<<<gridDim, blockDim>>>(mat1_dev, mat2_dev, res_dev, N, M, K);\n",
        "\n",
        "    // Write down current time\n",
        "    checkError(cudaEventRecord(stopEvent, 0));\n",
        "\t\n",
        "    // Synchronize device\n",
        "    checkError(cudaDeviceSynchronize());\n",
        "\n",
        "    // Calculate and print elapsed time\n",
        "    checkError(cudaEventElapsedTime(&totalTime, startEvent, stopEvent));\n",
        "\n",
        "    // Copy result from device to host\n",
        "    checkError(cudaMemcpy(res, res_dev, res_size, cudaMemcpyDeviceToHost));\n",
        "\n",
        "    // Free device memory\n",
        "    cudaFree(mat1_dev);\n",
        "    cudaFree(mat2_dev);\n",
        "    cudaFree(res_dev);\n",
        "\n",
        "    // in seconds\n",
        "    return totalTime / 1000;\n",
        "}\n",
        "\n",
        "bool checkEquality(int* mat1, int* mat2, int N){\n",
        "\tbool flag = true;\n",
        "\t\n",
        "\tfor (int i = 0; i < N; ++i){\n",
        "      if (mat1[i] != mat2[i]){\n",
        "          flag = false;\n",
        "          break;\n",
        "      }\n",
        "  }\n",
        "\n",
        "  return flag;\n",
        "}\n",
        "\n",
        "void experiment(int N, int M, int K, int repeats, \n",
        "                float* cpuTime, float* gpuTime){\n",
        "    \n",
        "    *cpuTime = 0;\n",
        "    *gpuTime = 0;\n",
        "\n",
        "    int* mat1 = (int*)malloc(N * M * sizeof(int));\n",
        "    int* mat2 = (int*)malloc(M * K * sizeof(int));\n",
        "    int* gpu_res = (int*)malloc(N * K * sizeof(int));\n",
        "    int* cpu_res = (int*)malloc(N * K * sizeof(int));\n",
        "\n",
        "    for (int repeat = 0; repeat < repeats; ++repeat){\n",
        "        randomFillCPU(mat1, N, M, 1, 0, 64);\n",
        "        randomFillCPU(mat2, M, K, 1, 0, 64);\n",
        "\n",
        "        *cpuTime += cpuMatMul(mat1, mat2, cpu_res, N, M, K);\n",
        "        *gpuTime += gpuMatMul(mat1, mat2, gpu_res, N, M, K);\n",
        "        \n",
        "        assert(checkEquality(cpu_res, gpu_res, N * K));\n",
        "    }\n",
        "    \n",
        "    *cpuTime /= repeats;\n",
        "    *gpuTime /= repeats;\n",
        "\n",
        "    cout << \"CPU Time: \" << *cpuTime << endl;\n",
        "    cout << \"GPU Time: \" << *gpuTime << endl;\n",
        "    \n",
        "    free(mat1);\n",
        "    free(mat2);\n",
        "    free(gpu_res);\n",
        "    free(cpu_res);\n",
        "}\n",
        "\n",
        "\n",
        "int main(){\n",
        "  srand(42);\n",
        "\n",
        "  // N is a height of the first matrix\n",
        "  // M is a width of the first matrix and height of the second matrix\n",
        "  // K is a height of the second matrix\n",
        "\n",
        "  int N, M, K;\n",
        "\n",
        "  int expNum = 40;\n",
        "  int nRuns = 4;\n",
        "\n",
        "  int* paramN = new int[expNum];\n",
        "  int* paramM = new int[expNum];\n",
        "  int* paramK = new int[expNum];\n",
        "  float* paramCpuTime = new float[expNum];\n",
        "  float* paramGpuTime = new float[expNum];\n",
        "\n",
        "\n",
        "  for (int i = 0; i < expNum; ++i){\n",
        "      \n",
        "      paramN[i] = (100 + rand()) % 2000;\n",
        "      paramM[i] = (100 + rand()) % 2000;\n",
        "      paramK[i] = (100 + rand()) % 2000;\n",
        "\n",
        "      //paramN[i] = paramM[i] = paramK[i] = (100 + rand()) % 2000;\n",
        "      //paramN[i] = paramM[i] = paramK[i] = 10 * (1 << i);\n",
        "\n",
        "      cout << \"N = \" << paramN[i] << \" M = \" << paramM[i] << \" K = \" << paramK[i] << endl;\n",
        "      experiment(paramN[i], paramM[i], paramK[i], nRuns, \n",
        "                 paramCpuTime + i, paramGpuTime + i);\n",
        "  }\n",
        "\n",
        "  // For easy conversion to python\n",
        "  cout << endl;\n",
        "  cout << \"N: \";\n",
        "  for (int i = 0; i < expNum; ++i){\n",
        "      cout << paramN[i] << \" \";\n",
        "  }\n",
        "  cout << endl;\n",
        "\n",
        "  cout << \"M: \";\n",
        "  for (int i = 0; i < expNum; ++i){\n",
        "      cout << paramM[i] << \" \";\n",
        "  }\n",
        "  cout << endl;\n",
        "\n",
        "  cout << \"K: \";\n",
        "  for (int i = 0; i < expNum; ++i){\n",
        "      cout << paramK[i] << \" \";\n",
        "  }\n",
        "  cout << endl;\n",
        "\n",
        "  cout << \"cpuTime: \";\n",
        "  for (int i = 0; i < expNum; ++i){\n",
        "      cout << paramCpuTime[i] << \" \";\n",
        "  }\n",
        "  cout << endl;\n",
        "\n",
        "  cout << \"gpuTime: \";\n",
        "  for (int i = 0; i < expNum; ++i){\n",
        "      cout << paramGpuTime[i] << \" \";\n",
        "  }\n",
        "\n",
        "  cout << endl;\n",
        "\n",
        "  return 0;\n",
        "}"
      ],
      "metadata": {
        "id": "XfOE8VmzPo4c"
      },
      "execution_count": null,
      "outputs": []
    },
    {
      "cell_type": "markdown",
      "source": [
        "# Visualization"
      ],
      "metadata": {
        "id": "hgc9EKs4iS0Q"
      }
    },
    {
      "cell_type": "markdown",
      "source": [
        "Про выбор конфигурации сетки\n",
        "https://events.prace-ri.eu/event/477/sessions/1420/attachments/391/580/CUDA_MM.pdf"
      ],
      "metadata": {
        "id": "t5rEQoCwUq53"
      }
    },
    {
      "cell_type": "code",
      "source": [
        "import numpy as np\n",
        "import matplotlib.pyplot as plt\n",
        "import seaborn as sns\n",
        "\n",
        "params = {\n",
        "    \"N\": \"10 20 40 80 160 320 640 1280\",\n",
        "    \"M\": \"10 20 40 80 160 320 640 1280\",\n",
        "    \"K\": \"10 20 40 80 160 320 640 1280\",\n",
        "    \"cpuTime\": \"4.25e-06 2.525e-05 0.0001835 0.0013995 0.011212 0.114941 0.948382 13.4131\",\n",
        "    \"gpuTime\": \"1.4568e-05 1.6696e-05 2.4728e-05 3.908e-05 9.0032e-05 0.000464648 0.00307926 0.0299518\",\n",
        "}\n",
        "\n",
        "for key in [\"M\", \"N\", \"K\"]:\n",
        "  params[key] = np.array(list(map(int, params[key].split())))\n",
        "for key in [\"cpuTime\", \"gpuTime\"]:\n",
        "  params[key] = np.array(list(map(float, params[key].split())))\n",
        "\n",
        "expNum = len(params[\"N\"])\n",
        "\n",
        "_, ax = plt.subplots()\n",
        "\n",
        "sns.lineplot(x=range(expNum), y=params[\"cpuTime\"], ax=ax)\n",
        "sns.lineplot(x=range(expNum), y=params[\"gpuTime\"], ax=ax)\n",
        "\n",
        "for i in range(expNum):\n",
        "  ax.text(i, params['cpuTime'][i], f\"({params['N'][i]},{params['M'][i]},{params['K'][i]})\")"
      ],
      "metadata": {
        "colab": {
          "base_uri": "https://localhost:8080/",
          "height": 268
        },
        "id": "9xpFLI1GUhP8",
        "outputId": "e8f753c7-5e99-418c-ceac-5c5b60f1d04b"
      },
      "execution_count": 2,
      "outputs": [
        {
          "output_type": "display_data",
          "data": {
            "text/plain": [
              "<Figure size 432x288 with 1 Axes>"
            ],
            "image/png": "[encoded data removed]"
          },
          "metadata": {
            "needs_background": "light"
          }
        }
      ]
    },
    {
      "cell_type": "markdown",
      "source": [
        "## Square matrices"
      ],
      "metadata": {
        "id": "MQT37Bd25JXx"
      }
    },
    {
      "cell_type": "code",
      "source": [
        "N, gpu_time = zip(*sorted(zip(params[\"N\"], params[\"gpuTime\"])))\n",
        "N, cpu_time = zip(*sorted(zip(params[\"N\"], params[\"cpuTime\"])))\n",
        "\n",
        "N, cpu_time, gpu_time = np.array(N), np.array(cpu_time), np.array(gpu_time)\n",
        "\n",
        "speed_up = cpu_time / gpu_time\n",
        "\n",
        "fig, axs = plt.subplots(ncols=2, figsize=(15, 4))\n",
        "\n",
        "axs[0].set_title(\"Ускорение\")\n",
        "axs[0].set_xlabel(\"Размерность\")\n",
        "axs[0].set_ylabel(\"Ускорение\")\n",
        "sns.lineplot(x=N, y=speed_up, ax=axs[0])\n",
        "\n",
        "\n",
        "axs[1].set_title(\"Время, сек\")\n",
        "axs[1].set_xlabel(\"Размерность\")\n",
        "axs[1].set_ylabel(\"Время, сек\")\n",
        "\n",
        "sns.lineplot(x=N, y=cpu_time, ax=axs[1], label=\"cpu\")\n",
        "sns.lineplot(x=N, y=gpu_time, ax=axs[1], label=\"gpu\");"
      ],
      "metadata": {
        "colab": {
          "base_uri": "https://localhost:8080/",
          "height": 295
        },
        "id": "-8IeEKHt5KBf",
        "outputId": "1ddecc49-63fa-48a9-9e6f-b4659e4658a3"
      },
      "execution_count": 12,
      "outputs": [
        {
          "output_type": "display_data",
          "data": {
            "text/plain": [
              "<Figure size 1080x288 with 2 Axes>"
            ],
            "image/png": "[encoded data removed]"
          },
          "metadata": {
            "needs_background": "light"
          }
        }
      ]
    },
    {
      "cell_type": "markdown",
      "source": [
        "## Recatangular matrices"
      ],
      "metadata": {
        "id": "_1We-DcT5Bln"
      }
    },
    {
      "cell_type": "markdown",
      "source": [
        "Credits for display code: https://stackoverflow.com/questions/14995610/how-to-make-a-4d-plot-with-matplotlib-using-arbitrary-data"
      ],
      "metadata": {
        "id": "HC-6Et22hak9"
      }
    },
    {
      "cell_type": "code",
      "source": [
        "import numpy as np\n",
        "from mpl_toolkits.mplot3d import Axes3D\n",
        "import matplotlib.pyplot as plt\n",
        "import matplotlib.tri as mtri\n",
        "\n",
        "def plot4d(n, m, k, times, ax, cmap = \"seismic\"):\n",
        "\n",
        "  triangles = mtri.Triangulation(n, m).triangles;\n",
        "\n",
        "  colors = np.mean([\n",
        "      times[triangles[:,0]], \n",
        "      times[triangles[:,1]], \n",
        "      times[triangles[:,2]]\n",
        "  ], axis = 0);\n",
        "\n",
        "  triang = mtri.Triangulation(n, m, triangles);\n",
        "  surf = ax.plot_trisurf(triang, k, cmap = cmap, shade=False, linewidth=0.2);\n",
        "  surf.set_array(colors); \n",
        "  surf.autoscale();\n",
        "\n",
        "  cbar = fig.colorbar(surf, shrink=0.5, aspect=5);\n",
        "  cbar.ax.get_yaxis().labelpad = 15; \n",
        "  \n",
        "  cbar.ax.set_ylabel(\"Time\", rotation = 270);\n",
        "  ax.set_xlabel(\"N\"); \n",
        "  ax.set_ylabel(\"M\");\n",
        "  ax.set_zlabel(\"K\");\n",
        "\n",
        "  #ax.invert_xaxis()\n",
        "\n",
        "n, m, k = params[\"N\"], params[\"M\"], params[\"K\"]\n",
        "cpuTime, gpuTime = params[\"cpuTime\"], params[\"gpuTime\"]\n",
        "\n",
        "fig = plt.figure(figsize=(22, 5));\n",
        "\n",
        "ax = fig.add_subplot(1, 2, 1, projection='3d')\n",
        "ax.set_title(\"Cpu Time, sec\")\n",
        "plot4d(n, m, k, cpuTime, ax, cmap=\"inferno\")\n",
        "\n",
        "ax = fig.add_subplot(1, 2, 2, projection='3d')\n",
        "ax.set_title(\"Gpu Time, sec\")\n",
        "plot4d(n, m, k, gpuTime, ax, cmap=\"inferno\")\n",
        "\n",
        "#fig.text(0.2, 0.1, \"textsrt\")\n",
        "#fig.subplots_adjust(bottom=0.25)\n",
        "plt.show();"
      ],
      "metadata": {
        "colab": {
          "base_uri": "https://localhost:8080/",
          "height": 788
        },
        "id": "sAgsItNWcYPy",
        "outputId": "e5e2c659-5767-469e-c3ae-e56d3ec8fc16"
      },
      "execution_count": 92,
      "outputs": [
        {
          "output_type": "error",
          "ename": "RuntimeError",
          "evalue": "ignored",
          "traceback": [
            "\u001b[0;31m---------------------------------------------------------------------------\u001b[0m",
            "\u001b[0;31mRuntimeError\u001b[0m                              Traceback (most recent call last)",
            "\u001b[0;32m<ipython-input-92-485baf2e7586>\u001b[0m in \u001b[0;36m<module>\u001b[0;34m\u001b[0m\n\u001b[1;32m     36\u001b[0m \u001b[0max\u001b[0m \u001b[0;34m=\u001b[0m \u001b[0mfig\u001b[0m\u001b[0;34m.\u001b[0m\u001b[0madd_subplot\u001b[0m\u001b[0;34m(\u001b[0m\u001b[0;36m1\u001b[0m\u001b[0;34m,\u001b[0m \u001b[0;36m2\u001b[0m\u001b[0;34m,\u001b[0m \u001b[0;36m1\u001b[0m\u001b[0;34m,\u001b[0m \u001b[0mprojection\u001b[0m\u001b[0;34m=\u001b[0m\u001b[0;34m'3d'\u001b[0m\u001b[0;34m)\u001b[0m\u001b[0;34m\u001b[0m\u001b[0;34m\u001b[0m\u001b[0m\n\u001b[1;32m     37\u001b[0m \u001b[0max\u001b[0m\u001b[0;34m.\u001b[0m\u001b[0mset_title\u001b[0m\u001b[0;34m(\u001b[0m\u001b[0;34m\"Cpu Time, sec\"\u001b[0m\u001b[0;34m)\u001b[0m\u001b[0;34m\u001b[0m\u001b[0;34m\u001b[0m\u001b[0m\n\u001b[0;32m---> 38\u001b[0;31m \u001b[0mplot4d\u001b[0m\u001b[0;34m(\u001b[0m\u001b[0mn\u001b[0m\u001b[0;34m,\u001b[0m \u001b[0mm\u001b[0m\u001b[0;34m,\u001b[0m \u001b[0mk\u001b[0m\u001b[0;34m,\u001b[0m \u001b[0mcpuTime\u001b[0m\u001b[0;34m,\u001b[0m \u001b[0max\u001b[0m\u001b[0;34m,\u001b[0m \u001b[0mcmap\u001b[0m\u001b[0;34m=\u001b[0m\u001b[0;34m\"inferno\"\u001b[0m\u001b[0;34m)\u001b[0m\u001b[0;34m\u001b[0m\u001b[0;34m\u001b[0m\u001b[0m\n\u001b[0m\u001b[1;32m     39\u001b[0m \u001b[0;34m\u001b[0m\u001b[0m\n\u001b[1;32m     40\u001b[0m \u001b[0max\u001b[0m \u001b[0;34m=\u001b[0m \u001b[0mfig\u001b[0m\u001b[0;34m.\u001b[0m\u001b[0madd_subplot\u001b[0m\u001b[0;34m(\u001b[0m\u001b[0;36m1\u001b[0m\u001b[0;34m,\u001b[0m \u001b[0;36m2\u001b[0m\u001b[0;34m,\u001b[0m \u001b[0;36m2\u001b[0m\u001b[0;34m,\u001b[0m \u001b[0mprojection\u001b[0m\u001b[0;34m=\u001b[0m\u001b[0;34m'3d'\u001b[0m\u001b[0;34m)\u001b[0m\u001b[0;34m\u001b[0m\u001b[0;34m\u001b[0m\u001b[0m\n",
            "\u001b[0;32m<ipython-input-92-485baf2e7586>\u001b[0m in \u001b[0;36mplot4d\u001b[0;34m(n, m, k, times, ax, cmap)\u001b[0m\n\u001b[1;32m      6\u001b[0m \u001b[0;32mdef\u001b[0m \u001b[0mplot4d\u001b[0m\u001b[0;34m(\u001b[0m\u001b[0mn\u001b[0m\u001b[0;34m,\u001b[0m \u001b[0mm\u001b[0m\u001b[0;34m,\u001b[0m \u001b[0mk\u001b[0m\u001b[0;34m,\u001b[0m \u001b[0mtimes\u001b[0m\u001b[0;34m,\u001b[0m \u001b[0max\u001b[0m\u001b[0;34m,\u001b[0m \u001b[0mcmap\u001b[0m \u001b[0;34m=\u001b[0m \u001b[0;34m\"seismic\"\u001b[0m\u001b[0;34m)\u001b[0m\u001b[0;34m:\u001b[0m\u001b[0;34m\u001b[0m\u001b[0;34m\u001b[0m\u001b[0m\n\u001b[1;32m      7\u001b[0m \u001b[0;34m\u001b[0m\u001b[0m\n\u001b[0;32m----> 8\u001b[0;31m   \u001b[0mtriangles\u001b[0m \u001b[0;34m=\u001b[0m \u001b[0mmtri\u001b[0m\u001b[0;34m.\u001b[0m\u001b[0mTriangulation\u001b[0m\u001b[0;34m(\u001b[0m\u001b[0mn\u001b[0m\u001b[0;34m,\u001b[0m \u001b[0mm\u001b[0m\u001b[0;34m)\u001b[0m\u001b[0;34m.\u001b[0m\u001b[0mtriangles\u001b[0m\u001b[0;34m;\u001b[0m\u001b[0;34m\u001b[0m\u001b[0;34m\u001b[0m\u001b[0m\n\u001b[0m\u001b[1;32m      9\u001b[0m \u001b[0;34m\u001b[0m\u001b[0m\n\u001b[1;32m     10\u001b[0m   colors = np.mean([\n",
            "\u001b[0;32m/usr/local/lib/python3.7/dist-packages/matplotlib/tri/triangulation.py\u001b[0m in \u001b[0;36m__init__\u001b[0;34m(self, x, y, triangles, mask)\u001b[0m\n\u001b[1;32m     52\u001b[0m             \u001b[0;31m# No triangulation specified, so use matplotlib._qhull to obtain\u001b[0m\u001b[0;34m\u001b[0m\u001b[0;34m\u001b[0m\u001b[0;34m\u001b[0m\u001b[0m\n\u001b[1;32m     53\u001b[0m             \u001b[0;31m# Delaunay triangulation.\u001b[0m\u001b[0;34m\u001b[0m\u001b[0;34m\u001b[0m\u001b[0;34m\u001b[0m\u001b[0m\n\u001b[0;32m---> 54\u001b[0;31m             \u001b[0mself\u001b[0m\u001b[0;34m.\u001b[0m\u001b[0mtriangles\u001b[0m\u001b[0;34m,\u001b[0m \u001b[0mself\u001b[0m\u001b[0;34m.\u001b[0m\u001b[0m_neighbors\u001b[0m \u001b[0;34m=\u001b[0m \u001b[0m_qhull\u001b[0m\u001b[0;34m.\u001b[0m\u001b[0mdelaunay\u001b[0m\u001b[0;34m(\u001b[0m\u001b[0mx\u001b[0m\u001b[0;34m,\u001b[0m \u001b[0my\u001b[0m\u001b[0;34m)\u001b[0m\u001b[0;34m\u001b[0m\u001b[0;34m\u001b[0m\u001b[0m\n\u001b[0m\u001b[1;32m     55\u001b[0m             \u001b[0mself\u001b[0m\u001b[0;34m.\u001b[0m\u001b[0mis_delaunay\u001b[0m \u001b[0;34m=\u001b[0m \u001b[0;32mTrue\u001b[0m\u001b[0;34m\u001b[0m\u001b[0;34m\u001b[0m\u001b[0m\n\u001b[1;32m     56\u001b[0m         \u001b[0;32melse\u001b[0m\u001b[0;34m:\u001b[0m\u001b[0;34m\u001b[0m\u001b[0;34m\u001b[0m\u001b[0m\n",
            "\u001b[0;31mRuntimeError\u001b[0m: Error in qhull Delaunay triangulation calculation: singular input data (exitcode=2); use python verbose option (-v) to see original qhull error."
          ]
        },
        {
          "output_type": "display_data",
          "data": {
            "text/plain": [
              "<Figure size 1584x360 with 1 Axes>"
            ],
            "image/png": "[encoded data removed]"
          },
          "metadata": {
            "needs_background": "light"
          }
        }
      ]
    },
    {
      "cell_type": "code",
      "source": [
        "mtri.Triangulation(n, m).triangles"
      ],
      "metadata": {
        "colab": {
          "base_uri": "https://localhost:8080/",
          "height": 287
        },
        "id": "7zqg91UfBH5N",
        "outputId": "eda8d8d8-a0b5-46bc-976c-927ae3d2a245"
      },
      "execution_count": 97,
      "outputs": [
        {
          "output_type": "error",
          "ename": "RuntimeError",
          "evalue": "ignored",
          "traceback": [
            "\u001b[0;31m---------------------------------------------------------------------------\u001b[0m",
            "\u001b[0;31mRuntimeError\u001b[0m                              Traceback (most recent call last)",
            "\u001b[0;32m<ipython-input-97-d1dc70690090>\u001b[0m in \u001b[0;36m<module>\u001b[0;34m\u001b[0m\n\u001b[0;32m----> 1\u001b[0;31m \u001b[0mmtri\u001b[0m\u001b[0;34m.\u001b[0m\u001b[0mTriangulation\u001b[0m\u001b[0;34m(\u001b[0m\u001b[0mn\u001b[0m\u001b[0;34m,\u001b[0m \u001b[0mm\u001b[0m\u001b[0;34m)\u001b[0m\u001b[0;34m.\u001b[0m\u001b[0mtriangles\u001b[0m\u001b[0;34m\u001b[0m\u001b[0;34m\u001b[0m\u001b[0m\n\u001b[0m",
            "\u001b[0;32m/usr/local/lib/python3.7/dist-packages/matplotlib/tri/triangulation.py\u001b[0m in \u001b[0;36m__init__\u001b[0;34m(self, x, y, triangles, mask)\u001b[0m\n\u001b[1;32m     52\u001b[0m             \u001b[0;31m# No triangulation specified, so use matplotlib._qhull to obtain\u001b[0m\u001b[0;34m\u001b[0m\u001b[0;34m\u001b[0m\u001b[0;34m\u001b[0m\u001b[0m\n\u001b[1;32m     53\u001b[0m             \u001b[0;31m# Delaunay triangulation.\u001b[0m\u001b[0;34m\u001b[0m\u001b[0;34m\u001b[0m\u001b[0;34m\u001b[0m\u001b[0m\n\u001b[0;32m---> 54\u001b[0;31m             \u001b[0mself\u001b[0m\u001b[0;34m.\u001b[0m\u001b[0mtriangles\u001b[0m\u001b[0;34m,\u001b[0m \u001b[0mself\u001b[0m\u001b[0;34m.\u001b[0m\u001b[0m_neighbors\u001b[0m \u001b[0;34m=\u001b[0m \u001b[0m_qhull\u001b[0m\u001b[0;34m.\u001b[0m\u001b[0mdelaunay\u001b[0m\u001b[0;34m(\u001b[0m\u001b[0mx\u001b[0m\u001b[0;34m,\u001b[0m \u001b[0my\u001b[0m\u001b[0;34m)\u001b[0m\u001b[0;34m\u001b[0m\u001b[0;34m\u001b[0m\u001b[0m\n\u001b[0m\u001b[1;32m     55\u001b[0m             \u001b[0mself\u001b[0m\u001b[0;34m.\u001b[0m\u001b[0mis_delaunay\u001b[0m \u001b[0;34m=\u001b[0m \u001b[0;32mTrue\u001b[0m\u001b[0;34m\u001b[0m\u001b[0;34m\u001b[0m\u001b[0m\n\u001b[1;32m     56\u001b[0m         \u001b[0;32melse\u001b[0m\u001b[0;34m:\u001b[0m\u001b[0;34m\u001b[0m\u001b[0;34m\u001b[0m\u001b[0m\n",
            "\u001b[0;31mRuntimeError\u001b[0m: Error in qhull Delaunay triangulation calculation: singular input data (exitcode=2); use python verbose option (-v) to see original qhull error."
          ]
        }
      ]
    },
    {
      "cell_type": "code",
      "source": [
        "n"
      ],
      "metadata": {
        "colab": {
          "base_uri": "https://localhost:8080/"
        },
        "id": "4mlCTUuZBhC4",
        "outputId": "e77c09a8-7ee5-49b3-e96e-c3abba9753fc"
      },
      "execution_count": 98,
      "outputs": [
        {
          "output_type": "execute_result",
          "data": {
            "text/plain": [
              "array([  10,   20,   40,   80,  160,  320,  640, 1280])"
            ]
          },
          "metadata": {},
          "execution_count": 98
        }
      ]
    },
    {
      "cell_type": "code",
      "source": [
        "m"
      ],
      "metadata": {
        "colab": {
          "base_uri": "https://localhost:8080/"
        },
        "id": "5828zkrIBiHj",
        "outputId": "4f5cca18-3206-4c61-f3d2-5f9477c90fa1"
      },
      "execution_count": 99,
      "outputs": [
        {
          "output_type": "execute_result",
          "data": {
            "text/plain": [
              "array([  10,   20,   40,   80,  160,  320,  640, 1280])"
            ]
          },
          "metadata": {},
          "execution_count": 99
        }
      ]
    }
  ]
}